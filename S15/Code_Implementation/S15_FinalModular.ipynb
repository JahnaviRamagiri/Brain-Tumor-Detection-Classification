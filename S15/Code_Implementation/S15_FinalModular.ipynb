{
  "nbformat": 4,
  "nbformat_minor": 0,
  "metadata": {
    "colab": {
      "name": "S15_FinalModular.ipynb",
      "provenance": [],
      "collapsed_sections": [],
      "toc_visible": true,
      "machine_shape": "hm",
      "include_colab_link": true
    },
    "kernelspec": {
      "name": "python3",
      "display_name": "Python 3"
    },
    "accelerator": "GPU",
    "widgets": {
      "application/vnd.jupyter.widget-state+json": {
        "4bce5f0df6c745e8809f427e05345d8a": {
          "model_module": "@jupyter-widgets/controls",
          "model_name": "HBoxModel",
          "state": {
            "_view_name": "HBoxView",
            "_dom_classes": [],
            "_model_name": "HBoxModel",
            "_view_module": "@jupyter-widgets/controls",
            "_model_module_version": "1.5.0",
            "_view_count": null,
            "_view_module_version": "1.5.0",
            "box_style": "",
            "layout": "IPY_MODEL_0fa7033d1c6444bfa938fa4e1733aab4",
            "_model_module": "@jupyter-widgets/controls",
            "children": [
              "IPY_MODEL_4e09c96397e24eaa89c89c5956a1cb42",
              "IPY_MODEL_42b3f5302b4d40fb821a551aa8b55dfa"
            ]
          }
        },
        "0fa7033d1c6444bfa938fa4e1733aab4": {
          "model_module": "@jupyter-widgets/base",
          "model_name": "LayoutModel",
          "state": {
            "_view_name": "LayoutView",
            "grid_template_rows": null,
            "right": null,
            "justify_content": null,
            "_view_module": "@jupyter-widgets/base",
            "overflow": null,
            "_model_module_version": "1.2.0",
            "_view_count": null,
            "flex_flow": null,
            "width": null,
            "min_width": null,
            "border": null,
            "align_items": null,
            "bottom": null,
            "_model_module": "@jupyter-widgets/base",
            "top": null,
            "grid_column": null,
            "overflow_y": null,
            "overflow_x": null,
            "grid_auto_flow": null,
            "grid_area": null,
            "grid_template_columns": null,
            "flex": null,
            "_model_name": "LayoutModel",
            "justify_items": null,
            "grid_row": null,
            "max_height": null,
            "align_content": null,
            "visibility": null,
            "align_self": null,
            "height": null,
            "min_height": null,
            "padding": null,
            "grid_auto_rows": null,
            "grid_gap": null,
            "max_width": null,
            "order": null,
            "_view_module_version": "1.2.0",
            "grid_template_areas": null,
            "object_position": null,
            "object_fit": null,
            "grid_auto_columns": null,
            "margin": null,
            "display": null,
            "left": null
          }
        },
        "4e09c96397e24eaa89c89c5956a1cb42": {
          "model_module": "@jupyter-widgets/controls",
          "model_name": "FloatProgressModel",
          "state": {
            "_view_name": "ProgressView",
            "style": "IPY_MODEL_073d7f0e08704d63b106b63dd5690544",
            "_dom_classes": [],
            "description": "Loss=1.2179: 100%",
            "_model_name": "FloatProgressModel",
            "bar_style": "success",
            "max": 1050,
            "_view_module": "@jupyter-widgets/controls",
            "_model_module_version": "1.5.0",
            "value": 1050,
            "_view_count": null,
            "_view_module_version": "1.5.0",
            "orientation": "horizontal",
            "min": 0,
            "description_tooltip": null,
            "_model_module": "@jupyter-widgets/controls",
            "layout": "IPY_MODEL_8803e7a7e2a4455fbcf9bdcd8e2dbd61"
          }
        },
        "42b3f5302b4d40fb821a551aa8b55dfa": {
          "model_module": "@jupyter-widgets/controls",
          "model_name": "HTMLModel",
          "state": {
            "_view_name": "HTMLView",
            "style": "IPY_MODEL_997938db1f8c4f6ebb8ddeaaec1052b7",
            "_dom_classes": [],
            "description": "",
            "_model_name": "HTMLModel",
            "placeholder": "​",
            "_view_module": "@jupyter-widgets/controls",
            "_model_module_version": "1.5.0",
            "value": " 1050/1050 [42:05&lt;00:00,  2.40s/it]",
            "_view_count": null,
            "_view_module_version": "1.5.0",
            "description_tooltip": null,
            "_model_module": "@jupyter-widgets/controls",
            "layout": "IPY_MODEL_850692656f4d4c3eb0e6cb95fd2ea95c"
          }
        },
        "073d7f0e08704d63b106b63dd5690544": {
          "model_module": "@jupyter-widgets/controls",
          "model_name": "ProgressStyleModel",
          "state": {
            "_view_name": "StyleView",
            "_model_name": "ProgressStyleModel",
            "description_width": "initial",
            "_view_module": "@jupyter-widgets/base",
            "_model_module_version": "1.5.0",
            "_view_count": null,
            "_view_module_version": "1.2.0",
            "bar_color": null,
            "_model_module": "@jupyter-widgets/controls"
          }
        },
        "8803e7a7e2a4455fbcf9bdcd8e2dbd61": {
          "model_module": "@jupyter-widgets/base",
          "model_name": "LayoutModel",
          "state": {
            "_view_name": "LayoutView",
            "grid_template_rows": null,
            "right": null,
            "justify_content": null,
            "_view_module": "@jupyter-widgets/base",
            "overflow": null,
            "_model_module_version": "1.2.0",
            "_view_count": null,
            "flex_flow": null,
            "width": null,
            "min_width": null,
            "border": null,
            "align_items": null,
            "bottom": null,
            "_model_module": "@jupyter-widgets/base",
            "top": null,
            "grid_column": null,
            "overflow_y": null,
            "overflow_x": null,
            "grid_auto_flow": null,
            "grid_area": null,
            "grid_template_columns": null,
            "flex": null,
            "_model_name": "LayoutModel",
            "justify_items": null,
            "grid_row": null,
            "max_height": null,
            "align_content": null,
            "visibility": null,
            "align_self": null,
            "height": null,
            "min_height": null,
            "padding": null,
            "grid_auto_rows": null,
            "grid_gap": null,
            "max_width": null,
            "order": null,
            "_view_module_version": "1.2.0",
            "grid_template_areas": null,
            "object_position": null,
            "object_fit": null,
            "grid_auto_columns": null,
            "margin": null,
            "display": null,
            "left": null
          }
        },
        "997938db1f8c4f6ebb8ddeaaec1052b7": {
          "model_module": "@jupyter-widgets/controls",
          "model_name": "DescriptionStyleModel",
          "state": {
            "_view_name": "StyleView",
            "_model_name": "DescriptionStyleModel",
            "description_width": "",
            "_view_module": "@jupyter-widgets/base",
            "_model_module_version": "1.5.0",
            "_view_count": null,
            "_view_module_version": "1.2.0",
            "_model_module": "@jupyter-widgets/controls"
          }
        },
        "850692656f4d4c3eb0e6cb95fd2ea95c": {
          "model_module": "@jupyter-widgets/base",
          "model_name": "LayoutModel",
          "state": {
            "_view_name": "LayoutView",
            "grid_template_rows": null,
            "right": null,
            "justify_content": null,
            "_view_module": "@jupyter-widgets/base",
            "overflow": null,
            "_model_module_version": "1.2.0",
            "_view_count": null,
            "flex_flow": null,
            "width": null,
            "min_width": null,
            "border": null,
            "align_items": null,
            "bottom": null,
            "_model_module": "@jupyter-widgets/base",
            "top": null,
            "grid_column": null,
            "overflow_y": null,
            "overflow_x": null,
            "grid_auto_flow": null,
            "grid_area": null,
            "grid_template_columns": null,
            "flex": null,
            "_model_name": "LayoutModel",
            "justify_items": null,
            "grid_row": null,
            "max_height": null,
            "align_content": null,
            "visibility": null,
            "align_self": null,
            "height": null,
            "min_height": null,
            "padding": null,
            "grid_auto_rows": null,
            "grid_gap": null,
            "max_width": null,
            "order": null,
            "_view_module_version": "1.2.0",
            "grid_template_areas": null,
            "object_position": null,
            "object_fit": null,
            "grid_auto_columns": null,
            "margin": null,
            "display": null,
            "left": null
          }
        },
        "cb4fedbed9da497c80e864f3127ece27": {
          "model_module": "@jupyter-widgets/controls",
          "model_name": "HBoxModel",
          "state": {
            "_view_name": "HBoxView",
            "_dom_classes": [],
            "_model_name": "HBoxModel",
            "_view_module": "@jupyter-widgets/controls",
            "_model_module_version": "1.5.0",
            "_view_count": null,
            "_view_module_version": "1.5.0",
            "box_style": "",
            "layout": "IPY_MODEL_6a14324a5fe647c58c410af06b562788",
            "_model_module": "@jupyter-widgets/controls",
            "children": [
              "IPY_MODEL_cb9539061fb94b82a23a73981b8c676f",
              "IPY_MODEL_24c0b8d3d8c24c75ae960b1f4a2aa2a7"
            ]
          }
        },
        "6a14324a5fe647c58c410af06b562788": {
          "model_module": "@jupyter-widgets/base",
          "model_name": "LayoutModel",
          "state": {
            "_view_name": "LayoutView",
            "grid_template_rows": null,
            "right": null,
            "justify_content": null,
            "_view_module": "@jupyter-widgets/base",
            "overflow": null,
            "_model_module_version": "1.2.0",
            "_view_count": null,
            "flex_flow": null,
            "width": null,
            "min_width": null,
            "border": null,
            "align_items": null,
            "bottom": null,
            "_model_module": "@jupyter-widgets/base",
            "top": null,
            "grid_column": null,
            "overflow_y": null,
            "overflow_x": null,
            "grid_auto_flow": null,
            "grid_area": null,
            "grid_template_columns": null,
            "flex": null,
            "_model_name": "LayoutModel",
            "justify_items": null,
            "grid_row": null,
            "max_height": null,
            "align_content": null,
            "visibility": null,
            "align_self": null,
            "height": null,
            "min_height": null,
            "padding": null,
            "grid_auto_rows": null,
            "grid_gap": null,
            "max_width": null,
            "order": null,
            "_view_module_version": "1.2.0",
            "grid_template_areas": null,
            "object_position": null,
            "object_fit": null,
            "grid_auto_columns": null,
            "margin": null,
            "display": null,
            "left": null
          }
        },
        "cb9539061fb94b82a23a73981b8c676f": {
          "model_module": "@jupyter-widgets/controls",
          "model_name": "FloatProgressModel",
          "state": {
            "_view_name": "ProgressView",
            "style": "IPY_MODEL_59d939cde4a44730b12fc186b073623e",
            "_dom_classes": [],
            "description": "100%",
            "_model_name": "FloatProgressModel",
            "bar_style": "success",
            "max": 450,
            "_view_module": "@jupyter-widgets/controls",
            "_model_module_version": "1.5.0",
            "value": 450,
            "_view_count": null,
            "_view_module_version": "1.5.0",
            "orientation": "horizontal",
            "min": 0,
            "description_tooltip": null,
            "_model_module": "@jupyter-widgets/controls",
            "layout": "IPY_MODEL_412473d5d417441e9a9b29da76c9d329"
          }
        },
        "24c0b8d3d8c24c75ae960b1f4a2aa2a7": {
          "model_module": "@jupyter-widgets/controls",
          "model_name": "HTMLModel",
          "state": {
            "_view_name": "HTMLView",
            "style": "IPY_MODEL_ee41aada13614dd7b8658087894f4458",
            "_dom_classes": [],
            "description": "",
            "_model_name": "HTMLModel",
            "placeholder": "​",
            "_view_module": "@jupyter-widgets/controls",
            "_model_module_version": "1.5.0",
            "value": " 450/450 [10:40&lt;00:00,  1.42s/it]",
            "_view_count": null,
            "_view_module_version": "1.5.0",
            "description_tooltip": null,
            "_model_module": "@jupyter-widgets/controls",
            "layout": "IPY_MODEL_6c8df7b0bda4459db56c812e3513a07f"
          }
        },
        "59d939cde4a44730b12fc186b073623e": {
          "model_module": "@jupyter-widgets/controls",
          "model_name": "ProgressStyleModel",
          "state": {
            "_view_name": "StyleView",
            "_model_name": "ProgressStyleModel",
            "description_width": "initial",
            "_view_module": "@jupyter-widgets/base",
            "_model_module_version": "1.5.0",
            "_view_count": null,
            "_view_module_version": "1.2.0",
            "bar_color": null,
            "_model_module": "@jupyter-widgets/controls"
          }
        },
        "412473d5d417441e9a9b29da76c9d329": {
          "model_module": "@jupyter-widgets/base",
          "model_name": "LayoutModel",
          "state": {
            "_view_name": "LayoutView",
            "grid_template_rows": null,
            "right": null,
            "justify_content": null,
            "_view_module": "@jupyter-widgets/base",
            "overflow": null,
            "_model_module_version": "1.2.0",
            "_view_count": null,
            "flex_flow": null,
            "width": null,
            "min_width": null,
            "border": null,
            "align_items": null,
            "bottom": null,
            "_model_module": "@jupyter-widgets/base",
            "top": null,
            "grid_column": null,
            "overflow_y": null,
            "overflow_x": null,
            "grid_auto_flow": null,
            "grid_area": null,
            "grid_template_columns": null,
            "flex": null,
            "_model_name": "LayoutModel",
            "justify_items": null,
            "grid_row": null,
            "max_height": null,
            "align_content": null,
            "visibility": null,
            "align_self": null,
            "height": null,
            "min_height": null,
            "padding": null,
            "grid_auto_rows": null,
            "grid_gap": null,
            "max_width": null,
            "order": null,
            "_view_module_version": "1.2.0",
            "grid_template_areas": null,
            "object_position": null,
            "object_fit": null,
            "grid_auto_columns": null,
            "margin": null,
            "display": null,
            "left": null
          }
        },
        "ee41aada13614dd7b8658087894f4458": {
          "model_module": "@jupyter-widgets/controls",
          "model_name": "DescriptionStyleModel",
          "state": {
            "_view_name": "StyleView",
            "_model_name": "DescriptionStyleModel",
            "description_width": "",
            "_view_module": "@jupyter-widgets/base",
            "_model_module_version": "1.5.0",
            "_view_count": null,
            "_view_module_version": "1.2.0",
            "_model_module": "@jupyter-widgets/controls"
          }
        },
        "6c8df7b0bda4459db56c812e3513a07f": {
          "model_module": "@jupyter-widgets/base",
          "model_name": "LayoutModel",
          "state": {
            "_view_name": "LayoutView",
            "grid_template_rows": null,
            "right": null,
            "justify_content": null,
            "_view_module": "@jupyter-widgets/base",
            "overflow": null,
            "_model_module_version": "1.2.0",
            "_view_count": null,
            "flex_flow": null,
            "width": null,
            "min_width": null,
            "border": null,
            "align_items": null,
            "bottom": null,
            "_model_module": "@jupyter-widgets/base",
            "top": null,
            "grid_column": null,
            "overflow_y": null,
            "overflow_x": null,
            "grid_auto_flow": null,
            "grid_area": null,
            "grid_template_columns": null,
            "flex": null,
            "_model_name": "LayoutModel",
            "justify_items": null,
            "grid_row": null,
            "max_height": null,
            "align_content": null,
            "visibility": null,
            "align_self": null,
            "height": null,
            "min_height": null,
            "padding": null,
            "grid_auto_rows": null,
            "grid_gap": null,
            "max_width": null,
            "order": null,
            "_view_module_version": "1.2.0",
            "grid_template_areas": null,
            "object_position": null,
            "object_fit": null,
            "grid_auto_columns": null,
            "margin": null,
            "display": null,
            "left": null
          }
        },
        "1abe8d1b3c3f4715894191e5351b2910": {
          "model_module": "@jupyter-widgets/controls",
          "model_name": "HBoxModel",
          "state": {
            "_view_name": "HBoxView",
            "_dom_classes": [],
            "_model_name": "HBoxModel",
            "_view_module": "@jupyter-widgets/controls",
            "_model_module_version": "1.5.0",
            "_view_count": null,
            "_view_module_version": "1.5.0",
            "box_style": "",
            "layout": "IPY_MODEL_a591a10088f44b2393597fb7ded73bb1",
            "_model_module": "@jupyter-widgets/controls",
            "children": [
              "IPY_MODEL_2b1586f1e36443b6b300525d19c3af10",
              "IPY_MODEL_39f9f53e0d904df48b8fab6ff2eff0c1"
            ]
          }
        },
        "a591a10088f44b2393597fb7ded73bb1": {
          "model_module": "@jupyter-widgets/base",
          "model_name": "LayoutModel",
          "state": {
            "_view_name": "LayoutView",
            "grid_template_rows": null,
            "right": null,
            "justify_content": null,
            "_view_module": "@jupyter-widgets/base",
            "overflow": null,
            "_model_module_version": "1.2.0",
            "_view_count": null,
            "flex_flow": null,
            "width": null,
            "min_width": null,
            "border": null,
            "align_items": null,
            "bottom": null,
            "_model_module": "@jupyter-widgets/base",
            "top": null,
            "grid_column": null,
            "overflow_y": null,
            "overflow_x": null,
            "grid_auto_flow": null,
            "grid_area": null,
            "grid_template_columns": null,
            "flex": null,
            "_model_name": "LayoutModel",
            "justify_items": null,
            "grid_row": null,
            "max_height": null,
            "align_content": null,
            "visibility": null,
            "align_self": null,
            "height": null,
            "min_height": null,
            "padding": null,
            "grid_auto_rows": null,
            "grid_gap": null,
            "max_width": null,
            "order": null,
            "_view_module_version": "1.2.0",
            "grid_template_areas": null,
            "object_position": null,
            "object_fit": null,
            "grid_auto_columns": null,
            "margin": null,
            "display": null,
            "left": null
          }
        },
        "2b1586f1e36443b6b300525d19c3af10": {
          "model_module": "@jupyter-widgets/controls",
          "model_name": "FloatProgressModel",
          "state": {
            "_view_name": "ProgressView",
            "style": "IPY_MODEL_0d128082d5b747bcbe951952942492e5",
            "_dom_classes": [],
            "description": "Loss=1.1986: 100%",
            "_model_name": "FloatProgressModel",
            "bar_style": "success",
            "max": 1050,
            "_view_module": "@jupyter-widgets/controls",
            "_model_module_version": "1.5.0",
            "value": 1050,
            "_view_count": null,
            "_view_module_version": "1.5.0",
            "orientation": "horizontal",
            "min": 0,
            "description_tooltip": null,
            "_model_module": "@jupyter-widgets/controls",
            "layout": "IPY_MODEL_508f55eb45314f3ab8607698a8f1e1bb"
          }
        },
        "39f9f53e0d904df48b8fab6ff2eff0c1": {
          "model_module": "@jupyter-widgets/controls",
          "model_name": "HTMLModel",
          "state": {
            "_view_name": "HTMLView",
            "style": "IPY_MODEL_c827606193ff41c186f90003deef44dd",
            "_dom_classes": [],
            "description": "",
            "_model_name": "HTMLModel",
            "placeholder": "​",
            "_view_module": "@jupyter-widgets/controls",
            "_model_module_version": "1.5.0",
            "value": " 1050/1050 [08:45&lt;00:00,  2.00it/s]",
            "_view_count": null,
            "_view_module_version": "1.5.0",
            "description_tooltip": null,
            "_model_module": "@jupyter-widgets/controls",
            "layout": "IPY_MODEL_bc8bf10e7f794bdbbfb2e78d80445cee"
          }
        },
        "0d128082d5b747bcbe951952942492e5": {
          "model_module": "@jupyter-widgets/controls",
          "model_name": "ProgressStyleModel",
          "state": {
            "_view_name": "StyleView",
            "_model_name": "ProgressStyleModel",
            "description_width": "initial",
            "_view_module": "@jupyter-widgets/base",
            "_model_module_version": "1.5.0",
            "_view_count": null,
            "_view_module_version": "1.2.0",
            "bar_color": null,
            "_model_module": "@jupyter-widgets/controls"
          }
        },
        "508f55eb45314f3ab8607698a8f1e1bb": {
          "model_module": "@jupyter-widgets/base",
          "model_name": "LayoutModel",
          "state": {
            "_view_name": "LayoutView",
            "grid_template_rows": null,
            "right": null,
            "justify_content": null,
            "_view_module": "@jupyter-widgets/base",
            "overflow": null,
            "_model_module_version": "1.2.0",
            "_view_count": null,
            "flex_flow": null,
            "width": null,
            "min_width": null,
            "border": null,
            "align_items": null,
            "bottom": null,
            "_model_module": "@jupyter-widgets/base",
            "top": null,
            "grid_column": null,
            "overflow_y": null,
            "overflow_x": null,
            "grid_auto_flow": null,
            "grid_area": null,
            "grid_template_columns": null,
            "flex": null,
            "_model_name": "LayoutModel",
            "justify_items": null,
            "grid_row": null,
            "max_height": null,
            "align_content": null,
            "visibility": null,
            "align_self": null,
            "height": null,
            "min_height": null,
            "padding": null,
            "grid_auto_rows": null,
            "grid_gap": null,
            "max_width": null,
            "order": null,
            "_view_module_version": "1.2.0",
            "grid_template_areas": null,
            "object_position": null,
            "object_fit": null,
            "grid_auto_columns": null,
            "margin": null,
            "display": null,
            "left": null
          }
        },
        "c827606193ff41c186f90003deef44dd": {
          "model_module": "@jupyter-widgets/controls",
          "model_name": "DescriptionStyleModel",
          "state": {
            "_view_name": "StyleView",
            "_model_name": "DescriptionStyleModel",
            "description_width": "",
            "_view_module": "@jupyter-widgets/base",
            "_model_module_version": "1.5.0",
            "_view_count": null,
            "_view_module_version": "1.2.0",
            "_model_module": "@jupyter-widgets/controls"
          }
        },
        "bc8bf10e7f794bdbbfb2e78d80445cee": {
          "model_module": "@jupyter-widgets/base",
          "model_name": "LayoutModel",
          "state": {
            "_view_name": "LayoutView",
            "grid_template_rows": null,
            "right": null,
            "justify_content": null,
            "_view_module": "@jupyter-widgets/base",
            "overflow": null,
            "_model_module_version": "1.2.0",
            "_view_count": null,
            "flex_flow": null,
            "width": null,
            "min_width": null,
            "border": null,
            "align_items": null,
            "bottom": null,
            "_model_module": "@jupyter-widgets/base",
            "top": null,
            "grid_column": null,
            "overflow_y": null,
            "overflow_x": null,
            "grid_auto_flow": null,
            "grid_area": null,
            "grid_template_columns": null,
            "flex": null,
            "_model_name": "LayoutModel",
            "justify_items": null,
            "grid_row": null,
            "max_height": null,
            "align_content": null,
            "visibility": null,
            "align_self": null,
            "height": null,
            "min_height": null,
            "padding": null,
            "grid_auto_rows": null,
            "grid_gap": null,
            "max_width": null,
            "order": null,
            "_view_module_version": "1.2.0",
            "grid_template_areas": null,
            "object_position": null,
            "object_fit": null,
            "grid_auto_columns": null,
            "margin": null,
            "display": null,
            "left": null
          }
        },
        "eadb4c7ac0224c9ca7d38cd1db961c4b": {
          "model_module": "@jupyter-widgets/controls",
          "model_name": "HBoxModel",
          "state": {
            "_view_name": "HBoxView",
            "_dom_classes": [],
            "_model_name": "HBoxModel",
            "_view_module": "@jupyter-widgets/controls",
            "_model_module_version": "1.5.0",
            "_view_count": null,
            "_view_module_version": "1.5.0",
            "box_style": "",
            "layout": "IPY_MODEL_19bbba9fb41249288e0096d55eaf4f1a",
            "_model_module": "@jupyter-widgets/controls",
            "children": [
              "IPY_MODEL_a2223b6e081142d19df16bf746920838",
              "IPY_MODEL_aea1e43a4a404679b1df043a86ae55dc"
            ]
          }
        },
        "19bbba9fb41249288e0096d55eaf4f1a": {
          "model_module": "@jupyter-widgets/base",
          "model_name": "LayoutModel",
          "state": {
            "_view_name": "LayoutView",
            "grid_template_rows": null,
            "right": null,
            "justify_content": null,
            "_view_module": "@jupyter-widgets/base",
            "overflow": null,
            "_model_module_version": "1.2.0",
            "_view_count": null,
            "flex_flow": null,
            "width": null,
            "min_width": null,
            "border": null,
            "align_items": null,
            "bottom": null,
            "_model_module": "@jupyter-widgets/base",
            "top": null,
            "grid_column": null,
            "overflow_y": null,
            "overflow_x": null,
            "grid_auto_flow": null,
            "grid_area": null,
            "grid_template_columns": null,
            "flex": null,
            "_model_name": "LayoutModel",
            "justify_items": null,
            "grid_row": null,
            "max_height": null,
            "align_content": null,
            "visibility": null,
            "align_self": null,
            "height": null,
            "min_height": null,
            "padding": null,
            "grid_auto_rows": null,
            "grid_gap": null,
            "max_width": null,
            "order": null,
            "_view_module_version": "1.2.0",
            "grid_template_areas": null,
            "object_position": null,
            "object_fit": null,
            "grid_auto_columns": null,
            "margin": null,
            "display": null,
            "left": null
          }
        },
        "a2223b6e081142d19df16bf746920838": {
          "model_module": "@jupyter-widgets/controls",
          "model_name": "FloatProgressModel",
          "state": {
            "_view_name": "ProgressView",
            "style": "IPY_MODEL_0f376e9267aa40b39e84aac60340015a",
            "_dom_classes": [],
            "description": "100%",
            "_model_name": "FloatProgressModel",
            "bar_style": "success",
            "max": 450,
            "_view_module": "@jupyter-widgets/controls",
            "_model_module_version": "1.5.0",
            "value": 450,
            "_view_count": null,
            "_view_module_version": "1.5.0",
            "orientation": "horizontal",
            "min": 0,
            "description_tooltip": null,
            "_model_module": "@jupyter-widgets/controls",
            "layout": "IPY_MODEL_fca223e19150411098292a30e7b35dde"
          }
        },
        "aea1e43a4a404679b1df043a86ae55dc": {
          "model_module": "@jupyter-widgets/controls",
          "model_name": "HTMLModel",
          "state": {
            "_view_name": "HTMLView",
            "style": "IPY_MODEL_afc55cd712d342b3a38bf7c02bd2dfcd",
            "_dom_classes": [],
            "description": "",
            "_model_name": "HTMLModel",
            "placeholder": "​",
            "_view_module": "@jupyter-widgets/controls",
            "_model_module_version": "1.5.0",
            "value": " 450/450 [00:15&lt;00:00, 29.31it/s]",
            "_view_count": null,
            "_view_module_version": "1.5.0",
            "description_tooltip": null,
            "_model_module": "@jupyter-widgets/controls",
            "layout": "IPY_MODEL_2767b7be5bd84bc0974b28089c187ea0"
          }
        },
        "0f376e9267aa40b39e84aac60340015a": {
          "model_module": "@jupyter-widgets/controls",
          "model_name": "ProgressStyleModel",
          "state": {
            "_view_name": "StyleView",
            "_model_name": "ProgressStyleModel",
            "description_width": "initial",
            "_view_module": "@jupyter-widgets/base",
            "_model_module_version": "1.5.0",
            "_view_count": null,
            "_view_module_version": "1.2.0",
            "bar_color": null,
            "_model_module": "@jupyter-widgets/controls"
          }
        },
        "fca223e19150411098292a30e7b35dde": {
          "model_module": "@jupyter-widgets/base",
          "model_name": "LayoutModel",
          "state": {
            "_view_name": "LayoutView",
            "grid_template_rows": null,
            "right": null,
            "justify_content": null,
            "_view_module": "@jupyter-widgets/base",
            "overflow": null,
            "_model_module_version": "1.2.0",
            "_view_count": null,
            "flex_flow": null,
            "width": null,
            "min_width": null,
            "border": null,
            "align_items": null,
            "bottom": null,
            "_model_module": "@jupyter-widgets/base",
            "top": null,
            "grid_column": null,
            "overflow_y": null,
            "overflow_x": null,
            "grid_auto_flow": null,
            "grid_area": null,
            "grid_template_columns": null,
            "flex": null,
            "_model_name": "LayoutModel",
            "justify_items": null,
            "grid_row": null,
            "max_height": null,
            "align_content": null,
            "visibility": null,
            "align_self": null,
            "height": null,
            "min_height": null,
            "padding": null,
            "grid_auto_rows": null,
            "grid_gap": null,
            "max_width": null,
            "order": null,
            "_view_module_version": "1.2.0",
            "grid_template_areas": null,
            "object_position": null,
            "object_fit": null,
            "grid_auto_columns": null,
            "margin": null,
            "display": null,
            "left": null
          }
        },
        "afc55cd712d342b3a38bf7c02bd2dfcd": {
          "model_module": "@jupyter-widgets/controls",
          "model_name": "DescriptionStyleModel",
          "state": {
            "_view_name": "StyleView",
            "_model_name": "DescriptionStyleModel",
            "description_width": "",
            "_view_module": "@jupyter-widgets/base",
            "_model_module_version": "1.5.0",
            "_view_count": null,
            "_view_module_version": "1.2.0",
            "_model_module": "@jupyter-widgets/controls"
          }
        },
        "2767b7be5bd84bc0974b28089c187ea0": {
          "model_module": "@jupyter-widgets/base",
          "model_name": "LayoutModel",
          "state": {
            "_view_name": "LayoutView",
            "grid_template_rows": null,
            "right": null,
            "justify_content": null,
            "_view_module": "@jupyter-widgets/base",
            "overflow": null,
            "_model_module_version": "1.2.0",
            "_view_count": null,
            "flex_flow": null,
            "width": null,
            "min_width": null,
            "border": null,
            "align_items": null,
            "bottom": null,
            "_model_module": "@jupyter-widgets/base",
            "top": null,
            "grid_column": null,
            "overflow_y": null,
            "overflow_x": null,
            "grid_auto_flow": null,
            "grid_area": null,
            "grid_template_columns": null,
            "flex": null,
            "_model_name": "LayoutModel",
            "justify_items": null,
            "grid_row": null,
            "max_height": null,
            "align_content": null,
            "visibility": null,
            "align_self": null,
            "height": null,
            "min_height": null,
            "padding": null,
            "grid_auto_rows": null,
            "grid_gap": null,
            "max_width": null,
            "order": null,
            "_view_module_version": "1.2.0",
            "grid_template_areas": null,
            "object_position": null,
            "object_fit": null,
            "grid_auto_columns": null,
            "margin": null,
            "display": null,
            "left": null
          }
        },
        "b18e568ba6194aa6bddbc443bf967be3": {
          "model_module": "@jupyter-widgets/controls",
          "model_name": "HBoxModel",
          "state": {
            "_view_name": "HBoxView",
            "_dom_classes": [],
            "_model_name": "HBoxModel",
            "_view_module": "@jupyter-widgets/controls",
            "_model_module_version": "1.5.0",
            "_view_count": null,
            "_view_module_version": "1.5.0",
            "box_style": "",
            "layout": "IPY_MODEL_27da34ae95ed45789c8848bcbbb460ce",
            "_model_module": "@jupyter-widgets/controls",
            "children": [
              "IPY_MODEL_1741919e222446e3ba3066d1414cb577",
              "IPY_MODEL_fa752cd2607644e18e36343b8ba3d711"
            ]
          }
        },
        "27da34ae95ed45789c8848bcbbb460ce": {
          "model_module": "@jupyter-widgets/base",
          "model_name": "LayoutModel",
          "state": {
            "_view_name": "LayoutView",
            "grid_template_rows": null,
            "right": null,
            "justify_content": null,
            "_view_module": "@jupyter-widgets/base",
            "overflow": null,
            "_model_module_version": "1.2.0",
            "_view_count": null,
            "flex_flow": null,
            "width": null,
            "min_width": null,
            "border": null,
            "align_items": null,
            "bottom": null,
            "_model_module": "@jupyter-widgets/base",
            "top": null,
            "grid_column": null,
            "overflow_y": null,
            "overflow_x": null,
            "grid_auto_flow": null,
            "grid_area": null,
            "grid_template_columns": null,
            "flex": null,
            "_model_name": "LayoutModel",
            "justify_items": null,
            "grid_row": null,
            "max_height": null,
            "align_content": null,
            "visibility": null,
            "align_self": null,
            "height": null,
            "min_height": null,
            "padding": null,
            "grid_auto_rows": null,
            "grid_gap": null,
            "max_width": null,
            "order": null,
            "_view_module_version": "1.2.0",
            "grid_template_areas": null,
            "object_position": null,
            "object_fit": null,
            "grid_auto_columns": null,
            "margin": null,
            "display": null,
            "left": null
          }
        },
        "1741919e222446e3ba3066d1414cb577": {
          "model_module": "@jupyter-widgets/controls",
          "model_name": "FloatProgressModel",
          "state": {
            "_view_name": "ProgressView",
            "style": "IPY_MODEL_28db02bd7dd84e0fa476e0185618960f",
            "_dom_classes": [],
            "description": "Loss=1.2406: 100%",
            "_model_name": "FloatProgressModel",
            "bar_style": "success",
            "max": 1050,
            "_view_module": "@jupyter-widgets/controls",
            "_model_module_version": "1.5.0",
            "value": 1050,
            "_view_count": null,
            "_view_module_version": "1.5.0",
            "orientation": "horizontal",
            "min": 0,
            "description_tooltip": null,
            "_model_module": "@jupyter-widgets/controls",
            "layout": "IPY_MODEL_319f54cd555d411e8d2499caff7e8c13"
          }
        },
        "fa752cd2607644e18e36343b8ba3d711": {
          "model_module": "@jupyter-widgets/controls",
          "model_name": "HTMLModel",
          "state": {
            "_view_name": "HTMLView",
            "style": "IPY_MODEL_e0d0916c34f042a19ec9b790dea107f9",
            "_dom_classes": [],
            "description": "",
            "_model_name": "HTMLModel",
            "placeholder": "​",
            "_view_module": "@jupyter-widgets/controls",
            "_model_module_version": "1.5.0",
            "value": " 1050/1050 [07:38&lt;00:00,  2.29it/s]",
            "_view_count": null,
            "_view_module_version": "1.5.0",
            "description_tooltip": null,
            "_model_module": "@jupyter-widgets/controls",
            "layout": "IPY_MODEL_b44a129007e14b1783a804ea0885d89c"
          }
        },
        "28db02bd7dd84e0fa476e0185618960f": {
          "model_module": "@jupyter-widgets/controls",
          "model_name": "ProgressStyleModel",
          "state": {
            "_view_name": "StyleView",
            "_model_name": "ProgressStyleModel",
            "description_width": "initial",
            "_view_module": "@jupyter-widgets/base",
            "_model_module_version": "1.5.0",
            "_view_count": null,
            "_view_module_version": "1.2.0",
            "bar_color": null,
            "_model_module": "@jupyter-widgets/controls"
          }
        },
        "319f54cd555d411e8d2499caff7e8c13": {
          "model_module": "@jupyter-widgets/base",
          "model_name": "LayoutModel",
          "state": {
            "_view_name": "LayoutView",
            "grid_template_rows": null,
            "right": null,
            "justify_content": null,
            "_view_module": "@jupyter-widgets/base",
            "overflow": null,
            "_model_module_version": "1.2.0",
            "_view_count": null,
            "flex_flow": null,
            "width": null,
            "min_width": null,
            "border": null,
            "align_items": null,
            "bottom": null,
            "_model_module": "@jupyter-widgets/base",
            "top": null,
            "grid_column": null,
            "overflow_y": null,
            "overflow_x": null,
            "grid_auto_flow": null,
            "grid_area": null,
            "grid_template_columns": null,
            "flex": null,
            "_model_name": "LayoutModel",
            "justify_items": null,
            "grid_row": null,
            "max_height": null,
            "align_content": null,
            "visibility": null,
            "align_self": null,
            "height": null,
            "min_height": null,
            "padding": null,
            "grid_auto_rows": null,
            "grid_gap": null,
            "max_width": null,
            "order": null,
            "_view_module_version": "1.2.0",
            "grid_template_areas": null,
            "object_position": null,
            "object_fit": null,
            "grid_auto_columns": null,
            "margin": null,
            "display": null,
            "left": null
          }
        },
        "e0d0916c34f042a19ec9b790dea107f9": {
          "model_module": "@jupyter-widgets/controls",
          "model_name": "DescriptionStyleModel",
          "state": {
            "_view_name": "StyleView",
            "_model_name": "DescriptionStyleModel",
            "description_width": "",
            "_view_module": "@jupyter-widgets/base",
            "_model_module_version": "1.5.0",
            "_view_count": null,
            "_view_module_version": "1.2.0",
            "_model_module": "@jupyter-widgets/controls"
          }
        },
        "b44a129007e14b1783a804ea0885d89c": {
          "model_module": "@jupyter-widgets/base",
          "model_name": "LayoutModel",
          "state": {
            "_view_name": "LayoutView",
            "grid_template_rows": null,
            "right": null,
            "justify_content": null,
            "_view_module": "@jupyter-widgets/base",
            "overflow": null,
            "_model_module_version": "1.2.0",
            "_view_count": null,
            "flex_flow": null,
            "width": null,
            "min_width": null,
            "border": null,
            "align_items": null,
            "bottom": null,
            "_model_module": "@jupyter-widgets/base",
            "top": null,
            "grid_column": null,
            "overflow_y": null,
            "overflow_x": null,
            "grid_auto_flow": null,
            "grid_area": null,
            "grid_template_columns": null,
            "flex": null,
            "_model_name": "LayoutModel",
            "justify_items": null,
            "grid_row": null,
            "max_height": null,
            "align_content": null,
            "visibility": null,
            "align_self": null,
            "height": null,
            "min_height": null,
            "padding": null,
            "grid_auto_rows": null,
            "grid_gap": null,
            "max_width": null,
            "order": null,
            "_view_module_version": "1.2.0",
            "grid_template_areas": null,
            "object_position": null,
            "object_fit": null,
            "grid_auto_columns": null,
            "margin": null,
            "display": null,
            "left": null
          }
        },
        "7a8373b6a3f24b92a8b34b4e0299659a": {
          "model_module": "@jupyter-widgets/controls",
          "model_name": "HBoxModel",
          "state": {
            "_view_name": "HBoxView",
            "_dom_classes": [],
            "_model_name": "HBoxModel",
            "_view_module": "@jupyter-widgets/controls",
            "_model_module_version": "1.5.0",
            "_view_count": null,
            "_view_module_version": "1.5.0",
            "box_style": "",
            "layout": "IPY_MODEL_b7d28fcd73d7464d9fa33fa862972592",
            "_model_module": "@jupyter-widgets/controls",
            "children": [
              "IPY_MODEL_451c3be814c14abb8529e2f12949b221",
              "IPY_MODEL_e4250e505b924b65924d22974b7eb658"
            ]
          }
        },
        "b7d28fcd73d7464d9fa33fa862972592": {
          "model_module": "@jupyter-widgets/base",
          "model_name": "LayoutModel",
          "state": {
            "_view_name": "LayoutView",
            "grid_template_rows": null,
            "right": null,
            "justify_content": null,
            "_view_module": "@jupyter-widgets/base",
            "overflow": null,
            "_model_module_version": "1.2.0",
            "_view_count": null,
            "flex_flow": null,
            "width": null,
            "min_width": null,
            "border": null,
            "align_items": null,
            "bottom": null,
            "_model_module": "@jupyter-widgets/base",
            "top": null,
            "grid_column": null,
            "overflow_y": null,
            "overflow_x": null,
            "grid_auto_flow": null,
            "grid_area": null,
            "grid_template_columns": null,
            "flex": null,
            "_model_name": "LayoutModel",
            "justify_items": null,
            "grid_row": null,
            "max_height": null,
            "align_content": null,
            "visibility": null,
            "align_self": null,
            "height": null,
            "min_height": null,
            "padding": null,
            "grid_auto_rows": null,
            "grid_gap": null,
            "max_width": null,
            "order": null,
            "_view_module_version": "1.2.0",
            "grid_template_areas": null,
            "object_position": null,
            "object_fit": null,
            "grid_auto_columns": null,
            "margin": null,
            "display": null,
            "left": null
          }
        },
        "451c3be814c14abb8529e2f12949b221": {
          "model_module": "@jupyter-widgets/controls",
          "model_name": "FloatProgressModel",
          "state": {
            "_view_name": "ProgressView",
            "style": "IPY_MODEL_5865f41abdc346c483c6174b4b8c2357",
            "_dom_classes": [],
            "description": "100%",
            "_model_name": "FloatProgressModel",
            "bar_style": "success",
            "max": 450,
            "_view_module": "@jupyter-widgets/controls",
            "_model_module_version": "1.5.0",
            "value": 450,
            "_view_count": null,
            "_view_module_version": "1.5.0",
            "orientation": "horizontal",
            "min": 0,
            "description_tooltip": null,
            "_model_module": "@jupyter-widgets/controls",
            "layout": "IPY_MODEL_09548819c4ff4572a73aaaa54a0af117"
          }
        },
        "e4250e505b924b65924d22974b7eb658": {
          "model_module": "@jupyter-widgets/controls",
          "model_name": "HTMLModel",
          "state": {
            "_view_name": "HTMLView",
            "style": "IPY_MODEL_2cfd077da2ac490bb3b5afcb6fe567b0",
            "_dom_classes": [],
            "description": "",
            "_model_name": "HTMLModel",
            "placeholder": "​",
            "_view_module": "@jupyter-widgets/controls",
            "_model_module_version": "1.5.0",
            "value": " 450/450 [00:15&lt;00:00, 29.13it/s]",
            "_view_count": null,
            "_view_module_version": "1.5.0",
            "description_tooltip": null,
            "_model_module": "@jupyter-widgets/controls",
            "layout": "IPY_MODEL_58fcfe3e46314e0db86e5e2f87556afb"
          }
        },
        "5865f41abdc346c483c6174b4b8c2357": {
          "model_module": "@jupyter-widgets/controls",
          "model_name": "ProgressStyleModel",
          "state": {
            "_view_name": "StyleView",
            "_model_name": "ProgressStyleModel",
            "description_width": "initial",
            "_view_module": "@jupyter-widgets/base",
            "_model_module_version": "1.5.0",
            "_view_count": null,
            "_view_module_version": "1.2.0",
            "bar_color": null,
            "_model_module": "@jupyter-widgets/controls"
          }
        },
        "09548819c4ff4572a73aaaa54a0af117": {
          "model_module": "@jupyter-widgets/base",
          "model_name": "LayoutModel",
          "state": {
            "_view_name": "LayoutView",
            "grid_template_rows": null,
            "right": null,
            "justify_content": null,
            "_view_module": "@jupyter-widgets/base",
            "overflow": null,
            "_model_module_version": "1.2.0",
            "_view_count": null,
            "flex_flow": null,
            "width": null,
            "min_width": null,
            "border": null,
            "align_items": null,
            "bottom": null,
            "_model_module": "@jupyter-widgets/base",
            "top": null,
            "grid_column": null,
            "overflow_y": null,
            "overflow_x": null,
            "grid_auto_flow": null,
            "grid_area": null,
            "grid_template_columns": null,
            "flex": null,
            "_model_name": "LayoutModel",
            "justify_items": null,
            "grid_row": null,
            "max_height": null,
            "align_content": null,
            "visibility": null,
            "align_self": null,
            "height": null,
            "min_height": null,
            "padding": null,
            "grid_auto_rows": null,
            "grid_gap": null,
            "max_width": null,
            "order": null,
            "_view_module_version": "1.2.0",
            "grid_template_areas": null,
            "object_position": null,
            "object_fit": null,
            "grid_auto_columns": null,
            "margin": null,
            "display": null,
            "left": null
          }
        },
        "2cfd077da2ac490bb3b5afcb6fe567b0": {
          "model_module": "@jupyter-widgets/controls",
          "model_name": "DescriptionStyleModel",
          "state": {
            "_view_name": "StyleView",
            "_model_name": "DescriptionStyleModel",
            "description_width": "",
            "_view_module": "@jupyter-widgets/base",
            "_model_module_version": "1.5.0",
            "_view_count": null,
            "_view_module_version": "1.2.0",
            "_model_module": "@jupyter-widgets/controls"
          }
        },
        "58fcfe3e46314e0db86e5e2f87556afb": {
          "model_module": "@jupyter-widgets/base",
          "model_name": "LayoutModel",
          "state": {
            "_view_name": "LayoutView",
            "grid_template_rows": null,
            "right": null,
            "justify_content": null,
            "_view_module": "@jupyter-widgets/base",
            "overflow": null,
            "_model_module_version": "1.2.0",
            "_view_count": null,
            "flex_flow": null,
            "width": null,
            "min_width": null,
            "border": null,
            "align_items": null,
            "bottom": null,
            "_model_module": "@jupyter-widgets/base",
            "top": null,
            "grid_column": null,
            "overflow_y": null,
            "overflow_x": null,
            "grid_auto_flow": null,
            "grid_area": null,
            "grid_template_columns": null,
            "flex": null,
            "_model_name": "LayoutModel",
            "justify_items": null,
            "grid_row": null,
            "max_height": null,
            "align_content": null,
            "visibility": null,
            "align_self": null,
            "height": null,
            "min_height": null,
            "padding": null,
            "grid_auto_rows": null,
            "grid_gap": null,
            "max_width": null,
            "order": null,
            "_view_module_version": "1.2.0",
            "grid_template_areas": null,
            "object_position": null,
            "object_fit": null,
            "grid_auto_columns": null,
            "margin": null,
            "display": null,
            "left": null
          }
        },
        "927cb59143644e7d90c5fff38a592980": {
          "model_module": "@jupyter-widgets/controls",
          "model_name": "HBoxModel",
          "state": {
            "_view_name": "HBoxView",
            "_dom_classes": [],
            "_model_name": "HBoxModel",
            "_view_module": "@jupyter-widgets/controls",
            "_model_module_version": "1.5.0",
            "_view_count": null,
            "_view_module_version": "1.5.0",
            "box_style": "",
            "layout": "IPY_MODEL_34cad8841aba47538a0432b914877e48",
            "_model_module": "@jupyter-widgets/controls",
            "children": [
              "IPY_MODEL_959f9b96da2c4f0a8e8cb0405ded18c0",
              "IPY_MODEL_789461764d9044439454ca83a518b84a"
            ]
          }
        },
        "34cad8841aba47538a0432b914877e48": {
          "model_module": "@jupyter-widgets/base",
          "model_name": "LayoutModel",
          "state": {
            "_view_name": "LayoutView",
            "grid_template_rows": null,
            "right": null,
            "justify_content": null,
            "_view_module": "@jupyter-widgets/base",
            "overflow": null,
            "_model_module_version": "1.2.0",
            "_view_count": null,
            "flex_flow": null,
            "width": null,
            "min_width": null,
            "border": null,
            "align_items": null,
            "bottom": null,
            "_model_module": "@jupyter-widgets/base",
            "top": null,
            "grid_column": null,
            "overflow_y": null,
            "overflow_x": null,
            "grid_auto_flow": null,
            "grid_area": null,
            "grid_template_columns": null,
            "flex": null,
            "_model_name": "LayoutModel",
            "justify_items": null,
            "grid_row": null,
            "max_height": null,
            "align_content": null,
            "visibility": null,
            "align_self": null,
            "height": null,
            "min_height": null,
            "padding": null,
            "grid_auto_rows": null,
            "grid_gap": null,
            "max_width": null,
            "order": null,
            "_view_module_version": "1.2.0",
            "grid_template_areas": null,
            "object_position": null,
            "object_fit": null,
            "grid_auto_columns": null,
            "margin": null,
            "display": null,
            "left": null
          }
        },
        "959f9b96da2c4f0a8e8cb0405ded18c0": {
          "model_module": "@jupyter-widgets/controls",
          "model_name": "FloatProgressModel",
          "state": {
            "_view_name": "ProgressView",
            "style": "IPY_MODEL_fdbd5dbb22a14b7fa5caa74918ea1264",
            "_dom_classes": [],
            "description": "Loss=1.2208: 100%",
            "_model_name": "FloatProgressModel",
            "bar_style": "success",
            "max": 1050,
            "_view_module": "@jupyter-widgets/controls",
            "_model_module_version": "1.5.0",
            "value": 1050,
            "_view_count": null,
            "_view_module_version": "1.5.0",
            "orientation": "horizontal",
            "min": 0,
            "description_tooltip": null,
            "_model_module": "@jupyter-widgets/controls",
            "layout": "IPY_MODEL_833ffae55172430693610f3f1d9b9ccf"
          }
        },
        "789461764d9044439454ca83a518b84a": {
          "model_module": "@jupyter-widgets/controls",
          "model_name": "HTMLModel",
          "state": {
            "_view_name": "HTMLView",
            "style": "IPY_MODEL_a861ce2206a945008bccb7775444318d",
            "_dom_classes": [],
            "description": "",
            "_model_name": "HTMLModel",
            "placeholder": "​",
            "_view_module": "@jupyter-widgets/controls",
            "_model_module_version": "1.5.0",
            "value": " 1050/1050 [06:32&lt;00:00,  2.68it/s]",
            "_view_count": null,
            "_view_module_version": "1.5.0",
            "description_tooltip": null,
            "_model_module": "@jupyter-widgets/controls",
            "layout": "IPY_MODEL_5477f6ea7c114d98a4f524425cfc1400"
          }
        },
        "fdbd5dbb22a14b7fa5caa74918ea1264": {
          "model_module": "@jupyter-widgets/controls",
          "model_name": "ProgressStyleModel",
          "state": {
            "_view_name": "StyleView",
            "_model_name": "ProgressStyleModel",
            "description_width": "initial",
            "_view_module": "@jupyter-widgets/base",
            "_model_module_version": "1.5.0",
            "_view_count": null,
            "_view_module_version": "1.2.0",
            "bar_color": null,
            "_model_module": "@jupyter-widgets/controls"
          }
        },
        "833ffae55172430693610f3f1d9b9ccf": {
          "model_module": "@jupyter-widgets/base",
          "model_name": "LayoutModel",
          "state": {
            "_view_name": "LayoutView",
            "grid_template_rows": null,
            "right": null,
            "justify_content": null,
            "_view_module": "@jupyter-widgets/base",
            "overflow": null,
            "_model_module_version": "1.2.0",
            "_view_count": null,
            "flex_flow": null,
            "width": null,
            "min_width": null,
            "border": null,
            "align_items": null,
            "bottom": null,
            "_model_module": "@jupyter-widgets/base",
            "top": null,
            "grid_column": null,
            "overflow_y": null,
            "overflow_x": null,
            "grid_auto_flow": null,
            "grid_area": null,
            "grid_template_columns": null,
            "flex": null,
            "_model_name": "LayoutModel",
            "justify_items": null,
            "grid_row": null,
            "max_height": null,
            "align_content": null,
            "visibility": null,
            "align_self": null,
            "height": null,
            "min_height": null,
            "padding": null,
            "grid_auto_rows": null,
            "grid_gap": null,
            "max_width": null,
            "order": null,
            "_view_module_version": "1.2.0",
            "grid_template_areas": null,
            "object_position": null,
            "object_fit": null,
            "grid_auto_columns": null,
            "margin": null,
            "display": null,
            "left": null
          }
        },
        "a861ce2206a945008bccb7775444318d": {
          "model_module": "@jupyter-widgets/controls",
          "model_name": "DescriptionStyleModel",
          "state": {
            "_view_name": "StyleView",
            "_model_name": "DescriptionStyleModel",
            "description_width": "",
            "_view_module": "@jupyter-widgets/base",
            "_model_module_version": "1.5.0",
            "_view_count": null,
            "_view_module_version": "1.2.0",
            "_model_module": "@jupyter-widgets/controls"
          }
        },
        "5477f6ea7c114d98a4f524425cfc1400": {
          "model_module": "@jupyter-widgets/base",
          "model_name": "LayoutModel",
          "state": {
            "_view_name": "LayoutView",
            "grid_template_rows": null,
            "right": null,
            "justify_content": null,
            "_view_module": "@jupyter-widgets/base",
            "overflow": null,
            "_model_module_version": "1.2.0",
            "_view_count": null,
            "flex_flow": null,
            "width": null,
            "min_width": null,
            "border": null,
            "align_items": null,
            "bottom": null,
            "_model_module": "@jupyter-widgets/base",
            "top": null,
            "grid_column": null,
            "overflow_y": null,
            "overflow_x": null,
            "grid_auto_flow": null,
            "grid_area": null,
            "grid_template_columns": null,
            "flex": null,
            "_model_name": "LayoutModel",
            "justify_items": null,
            "grid_row": null,
            "max_height": null,
            "align_content": null,
            "visibility": null,
            "align_self": null,
            "height": null,
            "min_height": null,
            "padding": null,
            "grid_auto_rows": null,
            "grid_gap": null,
            "max_width": null,
            "order": null,
            "_view_module_version": "1.2.0",
            "grid_template_areas": null,
            "object_position": null,
            "object_fit": null,
            "grid_auto_columns": null,
            "margin": null,
            "display": null,
            "left": null
          }
        },
        "b5972def25174b18bb6d29c260fa70c9": {
          "model_module": "@jupyter-widgets/controls",
          "model_name": "HBoxModel",
          "state": {
            "_view_name": "HBoxView",
            "_dom_classes": [],
            "_model_name": "HBoxModel",
            "_view_module": "@jupyter-widgets/controls",
            "_model_module_version": "1.5.0",
            "_view_count": null,
            "_view_module_version": "1.5.0",
            "box_style": "",
            "layout": "IPY_MODEL_e645470304284a558f288c330ea7846b",
            "_model_module": "@jupyter-widgets/controls",
            "children": [
              "IPY_MODEL_1054590396e9415e9f4858c1f31a335f",
              "IPY_MODEL_9a0f4a4726484b56bb5318a4d4410dae"
            ]
          }
        },
        "e645470304284a558f288c330ea7846b": {
          "model_module": "@jupyter-widgets/base",
          "model_name": "LayoutModel",
          "state": {
            "_view_name": "LayoutView",
            "grid_template_rows": null,
            "right": null,
            "justify_content": null,
            "_view_module": "@jupyter-widgets/base",
            "overflow": null,
            "_model_module_version": "1.2.0",
            "_view_count": null,
            "flex_flow": null,
            "width": null,
            "min_width": null,
            "border": null,
            "align_items": null,
            "bottom": null,
            "_model_module": "@jupyter-widgets/base",
            "top": null,
            "grid_column": null,
            "overflow_y": null,
            "overflow_x": null,
            "grid_auto_flow": null,
            "grid_area": null,
            "grid_template_columns": null,
            "flex": null,
            "_model_name": "LayoutModel",
            "justify_items": null,
            "grid_row": null,
            "max_height": null,
            "align_content": null,
            "visibility": null,
            "align_self": null,
            "height": null,
            "min_height": null,
            "padding": null,
            "grid_auto_rows": null,
            "grid_gap": null,
            "max_width": null,
            "order": null,
            "_view_module_version": "1.2.0",
            "grid_template_areas": null,
            "object_position": null,
            "object_fit": null,
            "grid_auto_columns": null,
            "margin": null,
            "display": null,
            "left": null
          }
        },
        "1054590396e9415e9f4858c1f31a335f": {
          "model_module": "@jupyter-widgets/controls",
          "model_name": "FloatProgressModel",
          "state": {
            "_view_name": "ProgressView",
            "style": "IPY_MODEL_7d6072ab67144c549b59966cc534113e",
            "_dom_classes": [],
            "description": "100%",
            "_model_name": "FloatProgressModel",
            "bar_style": "success",
            "max": 450,
            "_view_module": "@jupyter-widgets/controls",
            "_model_module_version": "1.5.0",
            "value": 450,
            "_view_count": null,
            "_view_module_version": "1.5.0",
            "orientation": "horizontal",
            "min": 0,
            "description_tooltip": null,
            "_model_module": "@jupyter-widgets/controls",
            "layout": "IPY_MODEL_c3e8bc9f51184ea1b67a3f53ffe49296"
          }
        },
        "9a0f4a4726484b56bb5318a4d4410dae": {
          "model_module": "@jupyter-widgets/controls",
          "model_name": "HTMLModel",
          "state": {
            "_view_name": "HTMLView",
            "style": "IPY_MODEL_b1267898fae6428b826c3c692d3c02dd",
            "_dom_classes": [],
            "description": "",
            "_model_name": "HTMLModel",
            "placeholder": "​",
            "_view_module": "@jupyter-widgets/controls",
            "_model_module_version": "1.5.0",
            "value": " 450/450 [05:40&lt;00:00,  1.32it/s]",
            "_view_count": null,
            "_view_module_version": "1.5.0",
            "description_tooltip": null,
            "_model_module": "@jupyter-widgets/controls",
            "layout": "IPY_MODEL_069f2d1e9cfc443c89d734f06c0843a2"
          }
        },
        "7d6072ab67144c549b59966cc534113e": {
          "model_module": "@jupyter-widgets/controls",
          "model_name": "ProgressStyleModel",
          "state": {
            "_view_name": "StyleView",
            "_model_name": "ProgressStyleModel",
            "description_width": "initial",
            "_view_module": "@jupyter-widgets/base",
            "_model_module_version": "1.5.0",
            "_view_count": null,
            "_view_module_version": "1.2.0",
            "bar_color": null,
            "_model_module": "@jupyter-widgets/controls"
          }
        },
        "c3e8bc9f51184ea1b67a3f53ffe49296": {
          "model_module": "@jupyter-widgets/base",
          "model_name": "LayoutModel",
          "state": {
            "_view_name": "LayoutView",
            "grid_template_rows": null,
            "right": null,
            "justify_content": null,
            "_view_module": "@jupyter-widgets/base",
            "overflow": null,
            "_model_module_version": "1.2.0",
            "_view_count": null,
            "flex_flow": null,
            "width": null,
            "min_width": null,
            "border": null,
            "align_items": null,
            "bottom": null,
            "_model_module": "@jupyter-widgets/base",
            "top": null,
            "grid_column": null,
            "overflow_y": null,
            "overflow_x": null,
            "grid_auto_flow": null,
            "grid_area": null,
            "grid_template_columns": null,
            "flex": null,
            "_model_name": "LayoutModel",
            "justify_items": null,
            "grid_row": null,
            "max_height": null,
            "align_content": null,
            "visibility": null,
            "align_self": null,
            "height": null,
            "min_height": null,
            "padding": null,
            "grid_auto_rows": null,
            "grid_gap": null,
            "max_width": null,
            "order": null,
            "_view_module_version": "1.2.0",
            "grid_template_areas": null,
            "object_position": null,
            "object_fit": null,
            "grid_auto_columns": null,
            "margin": null,
            "display": null,
            "left": null
          }
        },
        "b1267898fae6428b826c3c692d3c02dd": {
          "model_module": "@jupyter-widgets/controls",
          "model_name": "DescriptionStyleModel",
          "state": {
            "_view_name": "StyleView",
            "_model_name": "DescriptionStyleModel",
            "description_width": "",
            "_view_module": "@jupyter-widgets/base",
            "_model_module_version": "1.5.0",
            "_view_count": null,
            "_view_module_version": "1.2.0",
            "_model_module": "@jupyter-widgets/controls"
          }
        },
        "069f2d1e9cfc443c89d734f06c0843a2": {
          "model_module": "@jupyter-widgets/base",
          "model_name": "LayoutModel",
          "state": {
            "_view_name": "LayoutView",
            "grid_template_rows": null,
            "right": null,
            "justify_content": null,
            "_view_module": "@jupyter-widgets/base",
            "overflow": null,
            "_model_module_version": "1.2.0",
            "_view_count": null,
            "flex_flow": null,
            "width": null,
            "min_width": null,
            "border": null,
            "align_items": null,
            "bottom": null,
            "_model_module": "@jupyter-widgets/base",
            "top": null,
            "grid_column": null,
            "overflow_y": null,
            "overflow_x": null,
            "grid_auto_flow": null,
            "grid_area": null,
            "grid_template_columns": null,
            "flex": null,
            "_model_name": "LayoutModel",
            "justify_items": null,
            "grid_row": null,
            "max_height": null,
            "align_content": null,
            "visibility": null,
            "align_self": null,
            "height": null,
            "min_height": null,
            "padding": null,
            "grid_auto_rows": null,
            "grid_gap": null,
            "max_width": null,
            "order": null,
            "_view_module_version": "1.2.0",
            "grid_template_areas": null,
            "object_position": null,
            "object_fit": null,
            "grid_auto_columns": null,
            "margin": null,
            "display": null,
            "left": null
          }
        },
        "21bc4a8a0b1940d6bf857c98daac2af6": {
          "model_module": "@jupyter-widgets/controls",
          "model_name": "HBoxModel",
          "state": {
            "_view_name": "HBoxView",
            "_dom_classes": [],
            "_model_name": "HBoxModel",
            "_view_module": "@jupyter-widgets/controls",
            "_model_module_version": "1.5.0",
            "_view_count": null,
            "_view_module_version": "1.5.0",
            "box_style": "",
            "layout": "IPY_MODEL_4d18cdfbf53c4b01b8fe89298cf54bf4",
            "_model_module": "@jupyter-widgets/controls",
            "children": [
              "IPY_MODEL_4d8ef03f682242e28ac920f9ea65db99",
              "IPY_MODEL_cf7952132a96427389728ad29a686012"
            ]
          }
        },
        "4d18cdfbf53c4b01b8fe89298cf54bf4": {
          "model_module": "@jupyter-widgets/base",
          "model_name": "LayoutModel",
          "state": {
            "_view_name": "LayoutView",
            "grid_template_rows": null,
            "right": null,
            "justify_content": null,
            "_view_module": "@jupyter-widgets/base",
            "overflow": null,
            "_model_module_version": "1.2.0",
            "_view_count": null,
            "flex_flow": null,
            "width": null,
            "min_width": null,
            "border": null,
            "align_items": null,
            "bottom": null,
            "_model_module": "@jupyter-widgets/base",
            "top": null,
            "grid_column": null,
            "overflow_y": null,
            "overflow_x": null,
            "grid_auto_flow": null,
            "grid_area": null,
            "grid_template_columns": null,
            "flex": null,
            "_model_name": "LayoutModel",
            "justify_items": null,
            "grid_row": null,
            "max_height": null,
            "align_content": null,
            "visibility": null,
            "align_self": null,
            "height": null,
            "min_height": null,
            "padding": null,
            "grid_auto_rows": null,
            "grid_gap": null,
            "max_width": null,
            "order": null,
            "_view_module_version": "1.2.0",
            "grid_template_areas": null,
            "object_position": null,
            "object_fit": null,
            "grid_auto_columns": null,
            "margin": null,
            "display": null,
            "left": null
          }
        },
        "4d8ef03f682242e28ac920f9ea65db99": {
          "model_module": "@jupyter-widgets/controls",
          "model_name": "FloatProgressModel",
          "state": {
            "_view_name": "ProgressView",
            "style": "IPY_MODEL_e98bde97b9d5411986a708ff691434c6",
            "_dom_classes": [],
            "description": "Loss=1.2061: 100%",
            "_model_name": "FloatProgressModel",
            "bar_style": "success",
            "max": 1050,
            "_view_module": "@jupyter-widgets/controls",
            "_model_module_version": "1.5.0",
            "value": 1050,
            "_view_count": null,
            "_view_module_version": "1.5.0",
            "orientation": "horizontal",
            "min": 0,
            "description_tooltip": null,
            "_model_module": "@jupyter-widgets/controls",
            "layout": "IPY_MODEL_31f4154fc00849f9b923fbf4911189ed"
          }
        },
        "cf7952132a96427389728ad29a686012": {
          "model_module": "@jupyter-widgets/controls",
          "model_name": "HTMLModel",
          "state": {
            "_view_name": "HTMLView",
            "style": "IPY_MODEL_29ca5f0726f247dda756090730cc77ce",
            "_dom_classes": [],
            "description": "",
            "_model_name": "HTMLModel",
            "placeholder": "​",
            "_view_module": "@jupyter-widgets/controls",
            "_model_module_version": "1.5.0",
            "value": " 1050/1050 [01:05&lt;00:00, 15.93it/s]",
            "_view_count": null,
            "_view_module_version": "1.5.0",
            "description_tooltip": null,
            "_model_module": "@jupyter-widgets/controls",
            "layout": "IPY_MODEL_d720511fdb614c3fb15400da906a732e"
          }
        },
        "e98bde97b9d5411986a708ff691434c6": {
          "model_module": "@jupyter-widgets/controls",
          "model_name": "ProgressStyleModel",
          "state": {
            "_view_name": "StyleView",
            "_model_name": "ProgressStyleModel",
            "description_width": "initial",
            "_view_module": "@jupyter-widgets/base",
            "_model_module_version": "1.5.0",
            "_view_count": null,
            "_view_module_version": "1.2.0",
            "bar_color": null,
            "_model_module": "@jupyter-widgets/controls"
          }
        },
        "31f4154fc00849f9b923fbf4911189ed": {
          "model_module": "@jupyter-widgets/base",
          "model_name": "LayoutModel",
          "state": {
            "_view_name": "LayoutView",
            "grid_template_rows": null,
            "right": null,
            "justify_content": null,
            "_view_module": "@jupyter-widgets/base",
            "overflow": null,
            "_model_module_version": "1.2.0",
            "_view_count": null,
            "flex_flow": null,
            "width": null,
            "min_width": null,
            "border": null,
            "align_items": null,
            "bottom": null,
            "_model_module": "@jupyter-widgets/base",
            "top": null,
            "grid_column": null,
            "overflow_y": null,
            "overflow_x": null,
            "grid_auto_flow": null,
            "grid_area": null,
            "grid_template_columns": null,
            "flex": null,
            "_model_name": "LayoutModel",
            "justify_items": null,
            "grid_row": null,
            "max_height": null,
            "align_content": null,
            "visibility": null,
            "align_self": null,
            "height": null,
            "min_height": null,
            "padding": null,
            "grid_auto_rows": null,
            "grid_gap": null,
            "max_width": null,
            "order": null,
            "_view_module_version": "1.2.0",
            "grid_template_areas": null,
            "object_position": null,
            "object_fit": null,
            "grid_auto_columns": null,
            "margin": null,
            "display": null,
            "left": null
          }
        },
        "29ca5f0726f247dda756090730cc77ce": {
          "model_module": "@jupyter-widgets/controls",
          "model_name": "DescriptionStyleModel",
          "state": {
            "_view_name": "StyleView",
            "_model_name": "DescriptionStyleModel",
            "description_width": "",
            "_view_module": "@jupyter-widgets/base",
            "_model_module_version": "1.5.0",
            "_view_count": null,
            "_view_module_version": "1.2.0",
            "_model_module": "@jupyter-widgets/controls"
          }
        },
        "d720511fdb614c3fb15400da906a732e": {
          "model_module": "@jupyter-widgets/base",
          "model_name": "LayoutModel",
          "state": {
            "_view_name": "LayoutView",
            "grid_template_rows": null,
            "right": null,
            "justify_content": null,
            "_view_module": "@jupyter-widgets/base",
            "overflow": null,
            "_model_module_version": "1.2.0",
            "_view_count": null,
            "flex_flow": null,
            "width": null,
            "min_width": null,
            "border": null,
            "align_items": null,
            "bottom": null,
            "_model_module": "@jupyter-widgets/base",
            "top": null,
            "grid_column": null,
            "overflow_y": null,
            "overflow_x": null,
            "grid_auto_flow": null,
            "grid_area": null,
            "grid_template_columns": null,
            "flex": null,
            "_model_name": "LayoutModel",
            "justify_items": null,
            "grid_row": null,
            "max_height": null,
            "align_content": null,
            "visibility": null,
            "align_self": null,
            "height": null,
            "min_height": null,
            "padding": null,
            "grid_auto_rows": null,
            "grid_gap": null,
            "max_width": null,
            "order": null,
            "_view_module_version": "1.2.0",
            "grid_template_areas": null,
            "object_position": null,
            "object_fit": null,
            "grid_auto_columns": null,
            "margin": null,
            "display": null,
            "left": null
          }
        },
        "1afa4ae312ac41b78d80ebdc8f0fb4e7": {
          "model_module": "@jupyter-widgets/controls",
          "model_name": "HBoxModel",
          "state": {
            "_view_name": "HBoxView",
            "_dom_classes": [],
            "_model_name": "HBoxModel",
            "_view_module": "@jupyter-widgets/controls",
            "_model_module_version": "1.5.0",
            "_view_count": null,
            "_view_module_version": "1.5.0",
            "box_style": "",
            "layout": "IPY_MODEL_8ac8f58d147a41f09693a625920c9c3f",
            "_model_module": "@jupyter-widgets/controls",
            "children": [
              "IPY_MODEL_550a246c7c40461498753187215c8122",
              "IPY_MODEL_a321668251664262a6fe17f490ede0c8"
            ]
          }
        },
        "8ac8f58d147a41f09693a625920c9c3f": {
          "model_module": "@jupyter-widgets/base",
          "model_name": "LayoutModel",
          "state": {
            "_view_name": "LayoutView",
            "grid_template_rows": null,
            "right": null,
            "justify_content": null,
            "_view_module": "@jupyter-widgets/base",
            "overflow": null,
            "_model_module_version": "1.2.0",
            "_view_count": null,
            "flex_flow": null,
            "width": null,
            "min_width": null,
            "border": null,
            "align_items": null,
            "bottom": null,
            "_model_module": "@jupyter-widgets/base",
            "top": null,
            "grid_column": null,
            "overflow_y": null,
            "overflow_x": null,
            "grid_auto_flow": null,
            "grid_area": null,
            "grid_template_columns": null,
            "flex": null,
            "_model_name": "LayoutModel",
            "justify_items": null,
            "grid_row": null,
            "max_height": null,
            "align_content": null,
            "visibility": null,
            "align_self": null,
            "height": null,
            "min_height": null,
            "padding": null,
            "grid_auto_rows": null,
            "grid_gap": null,
            "max_width": null,
            "order": null,
            "_view_module_version": "1.2.0",
            "grid_template_areas": null,
            "object_position": null,
            "object_fit": null,
            "grid_auto_columns": null,
            "margin": null,
            "display": null,
            "left": null
          }
        },
        "550a246c7c40461498753187215c8122": {
          "model_module": "@jupyter-widgets/controls",
          "model_name": "FloatProgressModel",
          "state": {
            "_view_name": "ProgressView",
            "style": "IPY_MODEL_21da634ca3584083b2e7efcddab49c3f",
            "_dom_classes": [],
            "description": "100%",
            "_model_name": "FloatProgressModel",
            "bar_style": "success",
            "max": 450,
            "_view_module": "@jupyter-widgets/controls",
            "_model_module_version": "1.5.0",
            "value": 450,
            "_view_count": null,
            "_view_module_version": "1.5.0",
            "orientation": "horizontal",
            "min": 0,
            "description_tooltip": null,
            "_model_module": "@jupyter-widgets/controls",
            "layout": "IPY_MODEL_5e66c9aa2e7243069b5abc3d02ccdfb3"
          }
        },
        "a321668251664262a6fe17f490ede0c8": {
          "model_module": "@jupyter-widgets/controls",
          "model_name": "HTMLModel",
          "state": {
            "_view_name": "HTMLView",
            "style": "IPY_MODEL_80431f9d4a92404e9b13fb5146cc2bdc",
            "_dom_classes": [],
            "description": "",
            "_model_name": "HTMLModel",
            "placeholder": "​",
            "_view_module": "@jupyter-widgets/controls",
            "_model_module_version": "1.5.0",
            "value": " 450/450 [00:14&lt;00:00, 31.20it/s]",
            "_view_count": null,
            "_view_module_version": "1.5.0",
            "description_tooltip": null,
            "_model_module": "@jupyter-widgets/controls",
            "layout": "IPY_MODEL_e6e22f6f583b47feb9d3c29d510294c9"
          }
        },
        "21da634ca3584083b2e7efcddab49c3f": {
          "model_module": "@jupyter-widgets/controls",
          "model_name": "ProgressStyleModel",
          "state": {
            "_view_name": "StyleView",
            "_model_name": "ProgressStyleModel",
            "description_width": "initial",
            "_view_module": "@jupyter-widgets/base",
            "_model_module_version": "1.5.0",
            "_view_count": null,
            "_view_module_version": "1.2.0",
            "bar_color": null,
            "_model_module": "@jupyter-widgets/controls"
          }
        },
        "5e66c9aa2e7243069b5abc3d02ccdfb3": {
          "model_module": "@jupyter-widgets/base",
          "model_name": "LayoutModel",
          "state": {
            "_view_name": "LayoutView",
            "grid_template_rows": null,
            "right": null,
            "justify_content": null,
            "_view_module": "@jupyter-widgets/base",
            "overflow": null,
            "_model_module_version": "1.2.0",
            "_view_count": null,
            "flex_flow": null,
            "width": null,
            "min_width": null,
            "border": null,
            "align_items": null,
            "bottom": null,
            "_model_module": "@jupyter-widgets/base",
            "top": null,
            "grid_column": null,
            "overflow_y": null,
            "overflow_x": null,
            "grid_auto_flow": null,
            "grid_area": null,
            "grid_template_columns": null,
            "flex": null,
            "_model_name": "LayoutModel",
            "justify_items": null,
            "grid_row": null,
            "max_height": null,
            "align_content": null,
            "visibility": null,
            "align_self": null,
            "height": null,
            "min_height": null,
            "padding": null,
            "grid_auto_rows": null,
            "grid_gap": null,
            "max_width": null,
            "order": null,
            "_view_module_version": "1.2.0",
            "grid_template_areas": null,
            "object_position": null,
            "object_fit": null,
            "grid_auto_columns": null,
            "margin": null,
            "display": null,
            "left": null
          }
        },
        "80431f9d4a92404e9b13fb5146cc2bdc": {
          "model_module": "@jupyter-widgets/controls",
          "model_name": "DescriptionStyleModel",
          "state": {
            "_view_name": "StyleView",
            "_model_name": "DescriptionStyleModel",
            "description_width": "",
            "_view_module": "@jupyter-widgets/base",
            "_model_module_version": "1.5.0",
            "_view_count": null,
            "_view_module_version": "1.2.0",
            "_model_module": "@jupyter-widgets/controls"
          }
        },
        "e6e22f6f583b47feb9d3c29d510294c9": {
          "model_module": "@jupyter-widgets/base",
          "model_name": "LayoutModel",
          "state": {
            "_view_name": "LayoutView",
            "grid_template_rows": null,
            "right": null,
            "justify_content": null,
            "_view_module": "@jupyter-widgets/base",
            "overflow": null,
            "_model_module_version": "1.2.0",
            "_view_count": null,
            "flex_flow": null,
            "width": null,
            "min_width": null,
            "border": null,
            "align_items": null,
            "bottom": null,
            "_model_module": "@jupyter-widgets/base",
            "top": null,
            "grid_column": null,
            "overflow_y": null,
            "overflow_x": null,
            "grid_auto_flow": null,
            "grid_area": null,
            "grid_template_columns": null,
            "flex": null,
            "_model_name": "LayoutModel",
            "justify_items": null,
            "grid_row": null,
            "max_height": null,
            "align_content": null,
            "visibility": null,
            "align_self": null,
            "height": null,
            "min_height": null,
            "padding": null,
            "grid_auto_rows": null,
            "grid_gap": null,
            "max_width": null,
            "order": null,
            "_view_module_version": "1.2.0",
            "grid_template_areas": null,
            "object_position": null,
            "object_fit": null,
            "grid_auto_columns": null,
            "margin": null,
            "display": null,
            "left": null
          }
        }
      }
    }
  },
  "cells": [
    {
      "cell_type": "markdown",
      "metadata": {
        "id": "view-in-github",
        "colab_type": "text"
      },
      "source": [
        "<a href=\"https://colab.research.google.com/github/JahnaviRamagiri/Brain-Tumor-Detection-Classification/blob/master/S15/Code_Implementation/S15_FinalModular.ipynb\" target=\"_parent\"><img src=\"https://colab.research.google.com/assets/colab-badge.svg\" alt=\"Open In Colab\"/></a>"
      ]
    },
    {
      "cell_type": "code",
      "metadata": {
        "id": "8YVI4o0v5qup",
        "colab_type": "code",
        "colab": {}
      },
      "source": [
        "# !pip install -U git+https://github.com/albu/albumentations"
      ],
      "execution_count": null,
      "outputs": []
    },
    {
      "cell_type": "code",
      "metadata": {
        "id": "NeRTwqznKgWA",
        "colab_type": "code",
        "colab": {
          "base_uri": "https://localhost:8080/",
          "height": 121
        },
        "outputId": "faf37a9a-376d-4a74-c504-54da049da791"
      },
      "source": [
        "from google.colab import drive\n",
        "ROOT = \"/content/drive\"\n",
        "drive.mount(ROOT, force_remount=True)"
      ],
      "execution_count": null,
      "outputs": [
        {
          "output_type": "stream",
          "text": [
            "Go to this URL in a browser: https://accounts.google.com/o/oauth2/auth?client_id=947318989803-6bn6qk8qdgf4n4g3pfee6491hc0brc4i.apps.googleusercontent.com&redirect_uri=urn%3aietf%3awg%3aoauth%3a2.0%3aoob&response_type=code&scope=email%20https%3a%2f%2fwww.googleapis.com%2fauth%2fdocs.test%20https%3a%2f%2fwww.googleapis.com%2fauth%2fdrive%20https%3a%2f%2fwww.googleapis.com%2fauth%2fdrive.photos.readonly%20https%3a%2f%2fwww.googleapis.com%2fauth%2fpeopleapi.readonly\n",
            "\n",
            "Enter your authorization code:\n",
            "··········\n",
            "Mounted at /content/drive\n"
          ],
          "name": "stdout"
        }
      ]
    },
    {
      "cell_type": "markdown",
      "metadata": {
        "id": "pwRBBbR6iMAl",
        "colab_type": "text"
      },
      "source": [
        "#Import Libraries"
      ]
    },
    {
      "cell_type": "code",
      "metadata": {
        "id": "pY8FUSdvIpah",
        "colab_type": "code",
        "colab": {}
      },
      "source": [
        "from torch.utils.data import Dataset, random_split\n",
        "import math\n",
        "from PIL import Image\n",
        "import cv2\n",
        "import numpy as np\n",
        "import torch\n",
        "import os\n",
        "from tqdm import notebook\n",
        "import torchvision\n",
        "import torch.nn as nn\n",
        "import torch.nn.functional as F\n",
        "from torchvision import transforms\n",
        "import albumentations as A\n",
        "import albumentations.pytorch as AP\n",
        "import random\n",
        "from tqdm.notebook import tqdm\n",
        "from tqdm import tqdm_notebook\n",
        "import time\n",
        "import matplotlib.pyplot as plt"
      ],
      "execution_count": null,
      "outputs": []
    },
    {
      "cell_type": "markdown",
      "metadata": {
        "id": "6uc2hZ_yiHfi",
        "colab_type": "text"
      },
      "source": [
        "#Import Custom Packages"
      ]
    },
    {
      "cell_type": "code",
      "metadata": {
        "id": "yNjlZlkMgxS7",
        "colab_type": "code",
        "colab": {}
      },
      "source": [
        "from Custom_Dataset import *\n",
        "from Data_Transform import *\n",
        "import Test\n",
        "import Train\n",
        "import Train_model\n",
        "from UnetModel import *\n",
        "import Results"
      ],
      "execution_count": null,
      "outputs": []
    },
    {
      "cell_type": "code",
      "metadata": {
        "id": "QFr7i33KNDqh",
        "colab_type": "code",
        "colab": {}
      },
      "source": [
        "# os.chdir(\"/content/drive/My Drive/Utils/S15_Dataset/\")"
      ],
      "execution_count": null,
      "outputs": []
    },
    {
      "cell_type": "markdown",
      "metadata": {
        "id": "SXwDPkW19Uyb",
        "colab_type": "text"
      },
      "source": [
        "### Albumentations"
      ]
    },
    {
      "cell_type": "code",
      "metadata": {
        "id": "wM4qaGb59eUq",
        "colab_type": "code",
        "colab": {}
      },
      "source": [
        "class Albumentation:\n",
        "  \"\"\"\n",
        "  Helper class to create test and train transforms using Albumentations\n",
        "  \"\"\"\n",
        "  def __init__(self, transforms=[]):\n",
        "    self.transforms = A.Compose(transforms)\n",
        "\n",
        "  def __call__(self, img):\n",
        "    img = np.array(img)\n",
        "    return self.transforms(image=img)['image']"
      ],
      "execution_count": null,
      "outputs": []
    },
    {
      "cell_type": "markdown",
      "metadata": {
        "id": "0dVPlxwR589x",
        "colab_type": "text"
      },
      "source": [
        "### Transforms"
      ]
    },
    {
      "cell_type": "code",
      "metadata": {
        "id": "oCo2gsHK6BlG",
        "colab_type": "code",
        "colab": {}
      },
      "source": [
        "input_img_means = (0.5558092594146729, 0.5201340913772583, 0.463156521320343, 0.5455222129821777, 0.5086212158203125, 0.45718181133270264)\n",
        "input_img_std = (0.2149990200996399, 0.21596555411815643, 0.23049025237560272, 0.22610004246234894, 0.2249932438135147, 0.23590309917926788)\n",
        "mask_means = (0.05790501832962036)\n",
        "mask_std =  (0.22068527340888977)\n",
        "depth_means = (0.40361160039901733)\n",
        "depth_std = (0.19922664761543274)"
      ],
      "execution_count": null,
      "outputs": []
    },
    {
      "cell_type": "code",
      "metadata": {
        "id": "exjaaWj29ijk",
        "colab_type": "code",
        "colab": {}
      },
      "source": [
        "input_transforms_data = [A.Resize(64,64), A.Normalize(mean=input_img_means, std=input_img_std), AP.ToTensor() ]\n",
        "mask_transform_data = [A.Resize(64,64), A.Normalize(mean=mask_means, std=mask_std), A.Transpose(always_apply=True), AP.ToTensor() ]\n",
        "depth_transform_data = [A.Resize(64,64), A.Normalize(mean=depth_means, std=depth_std), A.Transpose(always_apply=True), AP.ToTensor() ]\n",
        "\n",
        "input_transforms = Albumentation(transforms = input_transforms_data)\n",
        "mask_transforms = Albumentation(transforms = mask_transform_data)\n",
        "depth_transforms = Albumentation(transforms = depth_transform_data)\n",
        "\n",
        "transforms = {\n",
        "    \"input\" : input_transforms,\n",
        "    \"mask\": mask_transforms,\n",
        "    \"depth\" : depth_transforms\n",
        "}\n",
        "\n"
      ],
      "execution_count": null,
      "outputs": []
    },
    {
      "cell_type": "markdown",
      "metadata": {
        "id": "QJau-9qLVq67",
        "colab_type": "text"
      },
      "source": [
        "### Get Train, Test Dataset"
      ]
    },
    {
      "cell_type": "code",
      "metadata": {
        "id": "lHWHBk6ZVpuk",
        "colab_type": "code",
        "colab": {}
      },
      "source": [
        "def get_train_test_data(split = 70, train_transforms = None, test_transforms = None, start_no=1, end_no = 101):\n",
        "  custom_data_set = CustomDataSet(start_no, end_no)\n",
        "  train_len = len(custom_data_set) * split//100\n",
        "  test_len = len(custom_data_set) - train_len \n",
        "  train_set, val_set = random_split(custom_data_set, [train_len, test_len])\n",
        "  train_dataset = CustomTrainDataSet(train_set, transform=train_transforms)\n",
        "  test_dataset = CustomTrainDataSet(val_set, transform=test_transforms)\n",
        "  return train_dataset, test_dataset"
      ],
      "execution_count": null,
      "outputs": []
    },
    {
      "cell_type": "code",
      "metadata": {
        "id": "Xr7fHdeaVjd_",
        "colab_type": "code",
        "colab": {
          "base_uri": "https://localhost:8080/",
          "height": 118
        },
        "outputId": "9a26453f-44d9-4f0c-c408-7095908fa048"
      },
      "source": [
        "\n",
        "train_dataset, test_dataset = get_train_test_data(start_no = 20, end_no = 23, train_transforms = transforms, test_transforms = transforms)\n",
        "print(len(train_dataset))\n",
        "print(len(test_dataset))"
      ],
      "execution_count": null,
      "outputs": [
        {
          "output_type": "stream",
          "text": [
            "start\n",
            "start\n",
            "start\n",
            "end\n",
            "8400\n",
            "3600\n"
          ],
          "name": "stdout"
        }
      ]
    },
    {
      "cell_type": "code",
      "metadata": {
        "id": "u_5FaSE-ZSBu",
        "colab_type": "code",
        "colab": {}
      },
      "source": [
        "input_img, fg_bg_masks, fg_bg_depth = train_dataset[0]"
      ],
      "execution_count": null,
      "outputs": []
    },
    {
      "cell_type": "code",
      "metadata": {
        "id": "CoJR2c2Ifrg9",
        "colab_type": "code",
        "colab": {
          "base_uri": "https://localhost:8080/",
          "height": 34
        },
        "outputId": "fa225960-a6cb-4fb5-db0f-5d89a8203efc"
      },
      "source": [
        "input_img.shape"
      ],
      "execution_count": null,
      "outputs": [
        {
          "output_type": "execute_result",
          "data": {
            "text/plain": [
              "torch.Size([6, 64, 64])"
            ]
          },
          "metadata": {
            "tags": []
          },
          "execution_count": 15
        }
      ]
    },
    {
      "cell_type": "code",
      "metadata": {
        "id": "JopVq7UdgHdc",
        "colab_type": "code",
        "colab": {
          "base_uri": "https://localhost:8080/",
          "height": 134
        },
        "outputId": "4fcf157a-b4bf-4483-9cf3-8ad5800a9b3a"
      },
      "source": [
        "fg_bg_masks"
      ],
      "execution_count": null,
      "outputs": [
        {
          "output_type": "execute_result",
          "data": {
            "text/plain": [
              "tensor([[-0.2624, -0.2624, -0.2624,  ..., -0.2624, -0.2624, -0.2624],\n",
              "        [-0.2624, -0.2624, -0.2624,  ..., -0.2624, -0.2624, -0.2624],\n",
              "        [-0.2624, -0.2624, -0.2624,  ..., -0.2624, -0.2624, -0.2624],\n",
              "        ...,\n",
              "        [-0.2624, -0.2624, -0.2624,  ..., -0.2624, -0.2624, -0.2624],\n",
              "        [-0.2624, -0.2624, -0.2624,  ..., -0.2624, -0.2624, -0.2624],\n",
              "        [-0.2624, -0.2624, -0.2624,  ..., -0.2624, -0.2624, -0.2624]])"
            ]
          },
          "metadata": {
            "tags": []
          },
          "execution_count": 16
        }
      ]
    },
    {
      "cell_type": "code",
      "metadata": {
        "id": "hksMORoKgIOK",
        "colab_type": "code",
        "colab": {
          "base_uri": "https://localhost:8080/",
          "height": 134
        },
        "outputId": "54b551d0-2409-4822-a70d-1d3e46f486bf"
      },
      "source": [
        "fg_bg_depth"
      ],
      "execution_count": null,
      "outputs": [
        {
          "output_type": "execute_result",
          "data": {
            "text/plain": [
              "tensor([[ 0.6708,  0.6118,  0.6314,  ...,  0.1197,  0.0606, -0.1559],\n",
              "        [ 0.7889,  0.7495,  0.7692,  ...,  0.1787,  0.1590,  0.0212],\n",
              "        [ 0.8480,  0.8086,  0.8086,  ...,  0.1590,  0.1393,  0.0409],\n",
              "        ...,\n",
              "        [-0.6874, -0.9236, -0.3921,  ..., -1.0220, -1.0220, -0.9826],\n",
              "        [-0.6086, -0.8055, -0.4709,  ..., -1.0023, -1.0023, -0.9039],\n",
              "        [-0.4512, -0.6283, -0.5890,  ..., -0.9826, -1.0023, -0.7268]])"
            ]
          },
          "metadata": {
            "tags": []
          },
          "execution_count": 17
        }
      ]
    },
    {
      "cell_type": "code",
      "metadata": {
        "id": "elqRFRXghxrs",
        "colab_type": "code",
        "colab": {}
      },
      "source": [
        "img1,mask,depth = test_dataset[0]"
      ],
      "execution_count": null,
      "outputs": []
    },
    {
      "cell_type": "code",
      "metadata": {
        "id": "WlKk0b3EiAfO",
        "colab_type": "code",
        "colab": {
          "base_uri": "https://localhost:8080/",
          "height": 34
        },
        "outputId": "992a4640-877c-47cc-fda6-194f09b69fc2"
      },
      "source": [
        "img1.shape"
      ],
      "execution_count": null,
      "outputs": [
        {
          "output_type": "execute_result",
          "data": {
            "text/plain": [
              "torch.Size([6, 64, 64])"
            ]
          },
          "metadata": {
            "tags": []
          },
          "execution_count": 19
        }
      ]
    },
    {
      "cell_type": "code",
      "metadata": {
        "id": "ynIRcUEUiCwf",
        "colab_type": "code",
        "colab": {
          "base_uri": "https://localhost:8080/",
          "height": 34
        },
        "outputId": "95a5ae39-94c5-4217-eff5-5eebc967baeb"
      },
      "source": [
        "mask.shape"
      ],
      "execution_count": null,
      "outputs": [
        {
          "output_type": "execute_result",
          "data": {
            "text/plain": [
              "torch.Size([64, 64])"
            ]
          },
          "metadata": {
            "tags": []
          },
          "execution_count": 20
        }
      ]
    },
    {
      "cell_type": "code",
      "metadata": {
        "id": "9pJgUDneiDpF",
        "colab_type": "code",
        "colab": {
          "base_uri": "https://localhost:8080/",
          "height": 34
        },
        "outputId": "a8e3cb31-586d-45ed-9b07-b022fac2a86d"
      },
      "source": [
        "depth.shape"
      ],
      "execution_count": null,
      "outputs": [
        {
          "output_type": "execute_result",
          "data": {
            "text/plain": [
              "torch.Size([64, 64])"
            ]
          },
          "metadata": {
            "tags": []
          },
          "execution_count": 21
        }
      ]
    },
    {
      "cell_type": "markdown",
      "metadata": {
        "id": "xw4tXMAVy4Be",
        "colab_type": "text"
      },
      "source": [
        "### Get Data Loader"
      ]
    },
    {
      "cell_type": "code",
      "metadata": {
        "id": "2QQxRRRjy228",
        "colab_type": "code",
        "colab": {}
      },
      "source": [
        "def get_data_loader(train_set,test_set,seed=1,batch_size=8,num_workers=4,pin_memory=True):\n",
        "  SEED = 1\n",
        "  cuda = torch.cuda.is_available()\n",
        "  torch.manual_seed(SEED)\n",
        "  if cuda:\n",
        "    torch.cuda.manual_seed(SEED)\n",
        "  dataloader_args = dict(shuffle=True, batch_size=batch_size, num_workers=num_workers, pin_memory=pin_memory) if cuda else dict(shuffle=True, batch_size=64)\n",
        "  train_loader = torch.utils.data.DataLoader(train_set, **dataloader_args)\n",
        "  test_loader = torch.utils.data.DataLoader(test_set, **dataloader_args)\n",
        "  return train_loader, test_loader"
      ],
      "execution_count": null,
      "outputs": []
    },
    {
      "cell_type": "code",
      "metadata": {
        "id": "ccnmjX1tds8E",
        "colab_type": "code",
        "colab": {}
      },
      "source": [
        "train_loader, test_loader = get_data_loader(train_dataset, test_dataset)"
      ],
      "execution_count": null,
      "outputs": []
    },
    {
      "cell_type": "markdown",
      "metadata": {
        "id": "EyhIymoZVULg",
        "colab_type": "text"
      },
      "source": [
        "### Model Summary"
      ]
    },
    {
      "cell_type": "code",
      "metadata": {
        "id": "Jf7evWtoVYR4",
        "colab_type": "code",
        "colab": {
          "base_uri": "https://localhost:8080/",
          "height": 1000
        },
        "outputId": "21c4eef9-a3d5-47f2-9d8b-e10fa9133322"
      },
      "source": [
        "from torchsummary import summary\n",
        "use_cuda = torch.cuda.is_available()\n",
        "device = torch.device(\"cuda\" if use_cuda else \"cpu\")\n",
        "model = UNet(n_channels = 6,n_classes = 1).to(device)\n",
        "summary(model, input_size=(6, 64, 64))"
      ],
      "execution_count": null,
      "outputs": [
        {
          "output_type": "stream",
          "text": [
            "----------------------------------------------------------------\n",
            "        Layer (type)               Output Shape         Param #\n",
            "================================================================\n",
            "            Conv2d-1           [-1, 32, 64, 64]           1,760\n",
            "       BatchNorm2d-2           [-1, 32, 64, 64]              64\n",
            "              ReLU-3           [-1, 32, 64, 64]               0\n",
            "            Conv2d-4           [-1, 32, 64, 64]           9,248\n",
            "       BatchNorm2d-5           [-1, 32, 64, 64]              64\n",
            "              ReLU-6           [-1, 32, 64, 64]               0\n",
            "        DoubleConv-7           [-1, 32, 64, 64]               0\n",
            "         MaxPool2d-8           [-1, 32, 32, 32]               0\n",
            "            Conv2d-9           [-1, 64, 32, 32]          18,496\n",
            "      BatchNorm2d-10           [-1, 64, 32, 32]             128\n",
            "             ReLU-11           [-1, 64, 32, 32]               0\n",
            "           Conv2d-12           [-1, 64, 32, 32]          36,928\n",
            "      BatchNorm2d-13           [-1, 64, 32, 32]             128\n",
            "             ReLU-14           [-1, 64, 32, 32]               0\n",
            "       DoubleConv-15           [-1, 64, 32, 32]               0\n",
            "             Down-16           [-1, 64, 32, 32]               0\n",
            "        MaxPool2d-17           [-1, 64, 16, 16]               0\n",
            "           Conv2d-18          [-1, 128, 16, 16]          73,856\n",
            "      BatchNorm2d-19          [-1, 128, 16, 16]             256\n",
            "             ReLU-20          [-1, 128, 16, 16]               0\n",
            "           Conv2d-21          [-1, 128, 16, 16]         147,584\n",
            "      BatchNorm2d-22          [-1, 128, 16, 16]             256\n",
            "             ReLU-23          [-1, 128, 16, 16]               0\n",
            "       DoubleConv-24          [-1, 128, 16, 16]               0\n",
            "             Down-25          [-1, 128, 16, 16]               0\n",
            "        MaxPool2d-26            [-1, 128, 8, 8]               0\n",
            "           Conv2d-27            [-1, 256, 8, 8]         295,168\n",
            "      BatchNorm2d-28            [-1, 256, 8, 8]             512\n",
            "             ReLU-29            [-1, 256, 8, 8]               0\n",
            "           Conv2d-30            [-1, 256, 8, 8]         590,080\n",
            "      BatchNorm2d-31            [-1, 256, 8, 8]             512\n",
            "             ReLU-32            [-1, 256, 8, 8]               0\n",
            "       DoubleConv-33            [-1, 256, 8, 8]               0\n",
            "             Down-34            [-1, 256, 8, 8]               0\n",
            "        MaxPool2d-35            [-1, 256, 4, 4]               0\n",
            "           Conv2d-36            [-1, 256, 4, 4]         590,080\n",
            "      BatchNorm2d-37            [-1, 256, 4, 4]             512\n",
            "             ReLU-38            [-1, 256, 4, 4]               0\n",
            "           Conv2d-39            [-1, 256, 4, 4]         590,080\n",
            "      BatchNorm2d-40            [-1, 256, 4, 4]             512\n",
            "             ReLU-41            [-1, 256, 4, 4]               0\n",
            "       DoubleConv-42            [-1, 256, 4, 4]               0\n",
            "             Down-43            [-1, 256, 4, 4]               0\n",
            "         Upsample-44            [-1, 256, 8, 8]               0\n",
            "           Conv2d-45            [-1, 256, 8, 8]       1,179,904\n",
            "      BatchNorm2d-46            [-1, 256, 8, 8]             512\n",
            "             ReLU-47            [-1, 256, 8, 8]               0\n",
            "           Conv2d-48            [-1, 128, 8, 8]         295,040\n",
            "      BatchNorm2d-49            [-1, 128, 8, 8]             256\n",
            "             ReLU-50            [-1, 128, 8, 8]               0\n",
            "       DoubleConv-51            [-1, 128, 8, 8]               0\n",
            "               Up-52            [-1, 128, 8, 8]               0\n",
            "         Upsample-53          [-1, 128, 16, 16]               0\n",
            "           Conv2d-54          [-1, 128, 16, 16]         295,040\n",
            "      BatchNorm2d-55          [-1, 128, 16, 16]             256\n",
            "             ReLU-56          [-1, 128, 16, 16]               0\n",
            "           Conv2d-57           [-1, 64, 16, 16]          73,792\n",
            "      BatchNorm2d-58           [-1, 64, 16, 16]             128\n",
            "             ReLU-59           [-1, 64, 16, 16]               0\n",
            "       DoubleConv-60           [-1, 64, 16, 16]               0\n",
            "               Up-61           [-1, 64, 16, 16]               0\n",
            "         Upsample-62           [-1, 64, 32, 32]               0\n",
            "           Conv2d-63           [-1, 64, 32, 32]          73,792\n",
            "      BatchNorm2d-64           [-1, 64, 32, 32]             128\n",
            "             ReLU-65           [-1, 64, 32, 32]               0\n",
            "           Conv2d-66           [-1, 32, 32, 32]          18,464\n",
            "      BatchNorm2d-67           [-1, 32, 32, 32]              64\n",
            "             ReLU-68           [-1, 32, 32, 32]               0\n",
            "       DoubleConv-69           [-1, 32, 32, 32]               0\n",
            "               Up-70           [-1, 32, 32, 32]               0\n",
            "         Upsample-71           [-1, 32, 64, 64]               0\n",
            "           Conv2d-72           [-1, 32, 64, 64]          18,464\n",
            "      BatchNorm2d-73           [-1, 32, 64, 64]              64\n",
            "             ReLU-74           [-1, 32, 64, 64]               0\n",
            "           Conv2d-75           [-1, 32, 64, 64]           9,248\n",
            "      BatchNorm2d-76           [-1, 32, 64, 64]              64\n",
            "             ReLU-77           [-1, 32, 64, 64]               0\n",
            "       DoubleConv-78           [-1, 32, 64, 64]               0\n",
            "               Up-79           [-1, 32, 64, 64]               0\n",
            "           Conv2d-80            [-1, 1, 64, 64]              33\n",
            "          OutConv-81            [-1, 1, 64, 64]               0\n",
            "        MaxPool2d-82           [-1, 32, 32, 32]               0\n",
            "           Conv2d-83           [-1, 64, 32, 32]          18,496\n",
            "      BatchNorm2d-84           [-1, 64, 32, 32]             128\n",
            "             ReLU-85           [-1, 64, 32, 32]               0\n",
            "           Conv2d-86           [-1, 64, 32, 32]          36,928\n",
            "      BatchNorm2d-87           [-1, 64, 32, 32]             128\n",
            "             ReLU-88           [-1, 64, 32, 32]               0\n",
            "       DoubleConv-89           [-1, 64, 32, 32]               0\n",
            "             Down-90           [-1, 64, 32, 32]               0\n",
            "        MaxPool2d-91           [-1, 64, 16, 16]               0\n",
            "           Conv2d-92          [-1, 128, 16, 16]          73,856\n",
            "      BatchNorm2d-93          [-1, 128, 16, 16]             256\n",
            "             ReLU-94          [-1, 128, 16, 16]               0\n",
            "           Conv2d-95          [-1, 128, 16, 16]         147,584\n",
            "      BatchNorm2d-96          [-1, 128, 16, 16]             256\n",
            "             ReLU-97          [-1, 128, 16, 16]               0\n",
            "       DoubleConv-98          [-1, 128, 16, 16]               0\n",
            "             Down-99          [-1, 128, 16, 16]               0\n",
            "       MaxPool2d-100            [-1, 128, 8, 8]               0\n",
            "          Conv2d-101            [-1, 256, 8, 8]         295,168\n",
            "     BatchNorm2d-102            [-1, 256, 8, 8]             512\n",
            "            ReLU-103            [-1, 256, 8, 8]               0\n",
            "          Conv2d-104            [-1, 256, 8, 8]         590,080\n",
            "     BatchNorm2d-105            [-1, 256, 8, 8]             512\n",
            "            ReLU-106            [-1, 256, 8, 8]               0\n",
            "      DoubleConv-107            [-1, 256, 8, 8]               0\n",
            "            Down-108            [-1, 256, 8, 8]               0\n",
            "       MaxPool2d-109            [-1, 256, 4, 4]               0\n",
            "          Conv2d-110            [-1, 256, 4, 4]         590,080\n",
            "     BatchNorm2d-111            [-1, 256, 4, 4]             512\n",
            "            ReLU-112            [-1, 256, 4, 4]               0\n",
            "          Conv2d-113            [-1, 256, 4, 4]         590,080\n",
            "     BatchNorm2d-114            [-1, 256, 4, 4]             512\n",
            "            ReLU-115            [-1, 256, 4, 4]               0\n",
            "      DoubleConv-116            [-1, 256, 4, 4]               0\n",
            "            Down-117            [-1, 256, 4, 4]               0\n",
            "        Upsample-118            [-1, 256, 8, 8]               0\n",
            "          Conv2d-119            [-1, 256, 8, 8]       1,179,904\n",
            "     BatchNorm2d-120            [-1, 256, 8, 8]             512\n",
            "            ReLU-121            [-1, 256, 8, 8]               0\n",
            "          Conv2d-122            [-1, 128, 8, 8]         295,040\n",
            "     BatchNorm2d-123            [-1, 128, 8, 8]             256\n",
            "            ReLU-124            [-1, 128, 8, 8]               0\n",
            "      DoubleConv-125            [-1, 128, 8, 8]               0\n",
            "              Up-126            [-1, 128, 8, 8]               0\n",
            "        Upsample-127          [-1, 128, 16, 16]               0\n",
            "          Conv2d-128          [-1, 128, 16, 16]         295,040\n",
            "     BatchNorm2d-129          [-1, 128, 16, 16]             256\n",
            "            ReLU-130          [-1, 128, 16, 16]               0\n",
            "          Conv2d-131           [-1, 64, 16, 16]          73,792\n",
            "     BatchNorm2d-132           [-1, 64, 16, 16]             128\n",
            "            ReLU-133           [-1, 64, 16, 16]               0\n",
            "      DoubleConv-134           [-1, 64, 16, 16]               0\n",
            "              Up-135           [-1, 64, 16, 16]               0\n",
            "        Upsample-136           [-1, 64, 32, 32]               0\n",
            "          Conv2d-137           [-1, 64, 32, 32]          73,792\n",
            "     BatchNorm2d-138           [-1, 64, 32, 32]             128\n",
            "            ReLU-139           [-1, 64, 32, 32]               0\n",
            "          Conv2d-140           [-1, 32, 32, 32]          18,464\n",
            "     BatchNorm2d-141           [-1, 32, 32, 32]              64\n",
            "            ReLU-142           [-1, 32, 32, 32]               0\n",
            "      DoubleConv-143           [-1, 32, 32, 32]               0\n",
            "              Up-144           [-1, 32, 32, 32]               0\n",
            "        Upsample-145           [-1, 32, 64, 64]               0\n",
            "          Conv2d-146           [-1, 32, 64, 64]          18,464\n",
            "     BatchNorm2d-147           [-1, 32, 64, 64]              64\n",
            "            ReLU-148           [-1, 32, 64, 64]               0\n",
            "          Conv2d-149           [-1, 32, 64, 64]           9,248\n",
            "     BatchNorm2d-150           [-1, 32, 64, 64]              64\n",
            "            ReLU-151           [-1, 32, 64, 64]               0\n",
            "      DoubleConv-152           [-1, 32, 64, 64]               0\n",
            "              Up-153           [-1, 32, 64, 64]               0\n",
            "          Conv2d-154            [-1, 1, 64, 64]              33\n",
            "         OutConv-155            [-1, 1, 64, 64]               0\n",
            "================================================================\n",
            "Total params: 8,631,810\n",
            "Trainable params: 8,631,810\n",
            "Non-trainable params: 0\n",
            "----------------------------------------------------------------\n",
            "Input size (MB): 0.09\n",
            "Forward/backward pass size (MB): 51.94\n",
            "Params size (MB): 32.93\n",
            "Estimated Total Size (MB): 84.96\n",
            "----------------------------------------------------------------\n"
          ],
          "name": "stdout"
        }
      ]
    },
    {
      "cell_type": "markdown",
      "metadata": {
        "id": "gNkT5DrrcJ4-",
        "colab_type": "text"
      },
      "source": [
        "### Model Training"
      ]
    },
    {
      "cell_type": "code",
      "metadata": {
        "id": "TNk-fYfOcNfs",
        "colab_type": "code",
        "colab": {}
      },
      "source": [
        "import torch.nn as nn\n",
        "import torch.optim as optim\n",
        "from torch.optim.lr_scheduler import OneCycleLR,StepLR\n",
        "lr=0.01\n",
        "model = UNet(n_channels = 6,n_classes = 1).to(device)\n",
        "optimizer = optim.Adam(model.parameters(),lr=0.01)\n",
        "# optimizer = optim.RMSprop(model.parameters(), lr=lr, weight_decay=1e-8, momentum=0.9)\n",
        "scheduler=optim.lr_scheduler.ReduceLROnPlateau(optimizer,mode='min',patience=2, verbose=False)\n",
        "\n",
        "\n",
        "mask_criterion = nn.BCEWithLogitsLoss()\n",
        "depth_criterion =nn.BCEWithLogitsLoss()"
      ],
      "execution_count": null,
      "outputs": []
    },
    {
      "cell_type": "code",
      "metadata": {
        "id": "jjBI8ED0cThi",
        "colab_type": "code",
        "colab": {
          "base_uri": "https://localhost:8080/",
          "height": 382,
          "referenced_widgets": [
            "4bce5f0df6c745e8809f427e05345d8a",
            "0fa7033d1c6444bfa938fa4e1733aab4",
            "4e09c96397e24eaa89c89c5956a1cb42",
            "42b3f5302b4d40fb821a551aa8b55dfa",
            "073d7f0e08704d63b106b63dd5690544",
            "8803e7a7e2a4455fbcf9bdcd8e2dbd61",
            "997938db1f8c4f6ebb8ddeaaec1052b7",
            "850692656f4d4c3eb0e6cb95fd2ea95c",
            "cb4fedbed9da497c80e864f3127ece27",
            "6a14324a5fe647c58c410af06b562788",
            "cb9539061fb94b82a23a73981b8c676f",
            "24c0b8d3d8c24c75ae960b1f4a2aa2a7",
            "59d939cde4a44730b12fc186b073623e",
            "412473d5d417441e9a9b29da76c9d329",
            "ee41aada13614dd7b8658087894f4458",
            "6c8df7b0bda4459db56c812e3513a07f",
            "1abe8d1b3c3f4715894191e5351b2910",
            "a591a10088f44b2393597fb7ded73bb1",
            "2b1586f1e36443b6b300525d19c3af10",
            "39f9f53e0d904df48b8fab6ff2eff0c1",
            "0d128082d5b747bcbe951952942492e5",
            "508f55eb45314f3ab8607698a8f1e1bb",
            "c827606193ff41c186f90003deef44dd",
            "bc8bf10e7f794bdbbfb2e78d80445cee",
            "eadb4c7ac0224c9ca7d38cd1db961c4b",
            "19bbba9fb41249288e0096d55eaf4f1a",
            "a2223b6e081142d19df16bf746920838",
            "aea1e43a4a404679b1df043a86ae55dc",
            "0f376e9267aa40b39e84aac60340015a",
            "fca223e19150411098292a30e7b35dde",
            "afc55cd712d342b3a38bf7c02bd2dfcd",
            "2767b7be5bd84bc0974b28089c187ea0",
            "b18e568ba6194aa6bddbc443bf967be3",
            "27da34ae95ed45789c8848bcbbb460ce",
            "1741919e222446e3ba3066d1414cb577",
            "fa752cd2607644e18e36343b8ba3d711",
            "28db02bd7dd84e0fa476e0185618960f",
            "319f54cd555d411e8d2499caff7e8c13",
            "e0d0916c34f042a19ec9b790dea107f9",
            "b44a129007e14b1783a804ea0885d89c",
            "7a8373b6a3f24b92a8b34b4e0299659a",
            "b7d28fcd73d7464d9fa33fa862972592",
            "451c3be814c14abb8529e2f12949b221",
            "e4250e505b924b65924d22974b7eb658",
            "5865f41abdc346c483c6174b4b8c2357",
            "09548819c4ff4572a73aaaa54a0af117",
            "2cfd077da2ac490bb3b5afcb6fe567b0",
            "58fcfe3e46314e0db86e5e2f87556afb",
            "927cb59143644e7d90c5fff38a592980",
            "34cad8841aba47538a0432b914877e48",
            "959f9b96da2c4f0a8e8cb0405ded18c0",
            "789461764d9044439454ca83a518b84a",
            "fdbd5dbb22a14b7fa5caa74918ea1264",
            "833ffae55172430693610f3f1d9b9ccf",
            "a861ce2206a945008bccb7775444318d",
            "5477f6ea7c114d98a4f524425cfc1400",
            "b5972def25174b18bb6d29c260fa70c9",
            "e645470304284a558f288c330ea7846b",
            "1054590396e9415e9f4858c1f31a335f",
            "9a0f4a4726484b56bb5318a4d4410dae",
            "7d6072ab67144c549b59966cc534113e",
            "c3e8bc9f51184ea1b67a3f53ffe49296",
            "b1267898fae6428b826c3c692d3c02dd",
            "069f2d1e9cfc443c89d734f06c0843a2",
            "21bc4a8a0b1940d6bf857c98daac2af6",
            "4d18cdfbf53c4b01b8fe89298cf54bf4",
            "4d8ef03f682242e28ac920f9ea65db99",
            "cf7952132a96427389728ad29a686012",
            "e98bde97b9d5411986a708ff691434c6",
            "31f4154fc00849f9b923fbf4911189ed",
            "29ca5f0726f247dda756090730cc77ce",
            "d720511fdb614c3fb15400da906a732e",
            "1afa4ae312ac41b78d80ebdc8f0fb4e7",
            "8ac8f58d147a41f09693a625920c9c3f",
            "550a246c7c40461498753187215c8122",
            "a321668251664262a6fe17f490ede0c8",
            "21da634ca3584083b2e7efcddab49c3f",
            "5e66c9aa2e7243069b5abc3d02ccdfb3",
            "80431f9d4a92404e9b13fb5146cc2bdc",
            "e6e22f6f583b47feb9d3c29d510294c9",
            "e51d0b62d8e24d05bf1b6a795d979997",
            "764f0ecafce5490793ef3153306822b6",
            "27912280d9c849b7af06581e4ee3e170",
            "3733bc4e7a1e494cbb4609560adef618",
            "d52cc5fce92d4081a6a210edb76e65ce",
            "ac1de2dc603a4e939a70bbfa07c404cd",
            "bbc57d26ff3a48d5a106fe16de5d340d",
            "acddada78dc246f9bb26fc703fc10923",
            "55b2c9b56a164f74aca8a194cdcf2717",
            "2b8ad53881e94d4881be767b544405ec"
          ]
        },
        "outputId": "8343c044-1e12-49a8-c02f-9b3076ebcbd9"
      },
      "source": [
        "import torch.nn as nn\n",
        "\n",
        "train_model(model,device,train_loader,test_loader,optimizer,mask_criterion,depth_criterion,10,scheduler,batch_scheduler=False,best_loss = 999)"
      ],
      "execution_count": null,
      "outputs": [
        {
          "output_type": "stream",
          "text": [
            "EPOCH: 1 LR: 0.01\n"
          ],
          "name": "stdout"
        },
        {
          "output_type": "display_data",
          "data": {
            "application/vnd.jupyter.widget-view+json": {
              "model_id": "4bce5f0df6c745e8809f427e05345d8a",
              "version_minor": 0,
              "version_major": 2
            },
            "text/plain": [
              "HBox(children=(FloatProgress(value=0.0, max=1050.0), HTML(value='')))"
            ]
          },
          "metadata": {
            "tags": []
          }
        },
        {
          "output_type": "stream",
          "text": [
            "total_lenght 1050\n",
            "\n",
            "avaerage_loss 678503.7411242723\n",
            "train loss\n",
            "[(0.6570121588593437, 0.5738336300282251)]\n"
          ],
          "name": "stdout"
        },
        {
          "output_type": "display_data",
          "data": {
            "application/vnd.jupyter.widget-view+json": {
              "model_id": "cb4fedbed9da497c80e864f3127ece27",
              "version_minor": 0,
              "version_major": 2
            },
            "text/plain": [
              "HBox(children=(FloatProgress(value=0.0, max=450.0), HTML(value='')))"
            ]
          },
          "metadata": {
            "tags": []
          }
        },
        {
          "output_type": "stream",
          "text": [
            "\n",
            "\n",
            "Test set: Average loss: 0.8793\n",
            "******************************\n",
            "EPOCH: 2 LR: 0.01\n"
          ],
          "name": "stdout"
        },
        {
          "output_type": "display_data",
          "data": {
            "application/vnd.jupyter.widget-view+json": {
              "model_id": "1abe8d1b3c3f4715894191e5351b2910",
              "version_minor": 0,
              "version_major": 2
            },
            "text/plain": [
              "HBox(children=(FloatProgress(value=0.0, max=1050.0), HTML(value='')))"
            ]
          },
          "metadata": {
            "tags": []
          }
        },
        {
          "output_type": "stream",
          "text": [
            "total_lenght 1050\n",
            "\n",
            "avaerage_loss 673437.0817065239\n",
            "train loss\n",
            "[(0.6570121588593437, 0.5738336300282251), (0.6545179075854165, 0.5671366624037425)]\n"
          ],
          "name": "stdout"
        },
        {
          "output_type": "display_data",
          "data": {
            "application/vnd.jupyter.widget-view+json": {
              "model_id": "eadb4c7ac0224c9ca7d38cd1db961c4b",
              "version_minor": 0,
              "version_major": 2
            },
            "text/plain": [
              "HBox(children=(FloatProgress(value=0.0, max=450.0), HTML(value='')))"
            ]
          },
          "metadata": {
            "tags": []
          }
        },
        {
          "output_type": "stream",
          "text": [
            "\n",
            "\n",
            "Test set: Average loss: 0.8758\n",
            "******************************\n",
            "EPOCH: 3 LR: 0.01\n"
          ],
          "name": "stdout"
        },
        {
          "output_type": "display_data",
          "data": {
            "application/vnd.jupyter.widget-view+json": {
              "model_id": "b18e568ba6194aa6bddbc443bf967be3",
              "version_minor": 0,
              "version_major": 2
            },
            "text/plain": [
              "HBox(children=(FloatProgress(value=0.0, max=1050.0), HTML(value='')))"
            ]
          },
          "metadata": {
            "tags": []
          }
        },
        {
          "output_type": "stream",
          "text": [
            "total_lenght 1050\n",
            "\n",
            "avaerage_loss 672385.1028040051\n",
            "train loss\n",
            "[(0.6570121588593437, 0.5738336300282251), (0.6545179075854165, 0.5671366624037425), (0.6541033327011835, 0.5656428855373746)]\n"
          ],
          "name": "stdout"
        },
        {
          "output_type": "display_data",
          "data": {
            "application/vnd.jupyter.widget-view+json": {
              "model_id": "7a8373b6a3f24b92a8b34b4e0299659a",
              "version_minor": 0,
              "version_major": 2
            },
            "text/plain": [
              "HBox(children=(FloatProgress(value=0.0, max=450.0), HTML(value='')))"
            ]
          },
          "metadata": {
            "tags": []
          }
        },
        {
          "output_type": "stream",
          "text": [
            "\n",
            "\n",
            "Test set: Average loss: 0.8838\n",
            "******************************\n",
            "EPOCH: 4 LR: 0.01\n"
          ],
          "name": "stdout"
        },
        {
          "output_type": "display_data",
          "data": {
            "application/vnd.jupyter.widget-view+json": {
              "model_id": "927cb59143644e7d90c5fff38a592980",
              "version_minor": 0,
              "version_major": 2
            },
            "text/plain": [
              "HBox(children=(FloatProgress(value=0.0, max=1050.0), HTML(value='')))"
            ]
          },
          "metadata": {
            "tags": []
          }
        },
        {
          "output_type": "stream",
          "text": [
            "total_lenght 1050\n",
            "\n",
            "avaerage_loss 671976.2952893972\n",
            "train loss\n",
            "[(0.6570121588593437, 0.5738336300282251), (0.6545179075854165, 0.5671366624037425), (0.6541033327011835, 0.5656428855373746), (0.6539605635120755, 0.5650440537929535)]\n"
          ],
          "name": "stdout"
        },
        {
          "output_type": "display_data",
          "data": {
            "application/vnd.jupyter.widget-view+json": {
              "model_id": "b5972def25174b18bb6d29c260fa70c9",
              "version_minor": 0,
              "version_major": 2
            },
            "text/plain": [
              "HBox(children=(FloatProgress(value=0.0, max=450.0), HTML(value='')))"
            ]
          },
          "metadata": {
            "tags": []
          }
        },
        {
          "output_type": "stream",
          "text": [
            "\n",
            "\n",
            "Test set: Average loss: 0.8584\n",
            "******************************\n",
            "EPOCH: 5 LR: 0.01\n"
          ],
          "name": "stdout"
        },
        {
          "output_type": "display_data",
          "data": {
            "application/vnd.jupyter.widget-view+json": {
              "model_id": "21bc4a8a0b1940d6bf857c98daac2af6",
              "version_minor": 0,
              "version_major": 2
            },
            "text/plain": [
              "HBox(children=(FloatProgress(value=0.0, max=1050.0), HTML(value='')))"
            ]
          },
          "metadata": {
            "tags": []
          }
        },
        {
          "output_type": "stream",
          "text": [
            "total_lenght 1050\n",
            "\n",
            "avaerage_loss 671546.9511419535\n",
            "train loss\n",
            "[(0.6570121588593437, 0.5738336300282251), (0.6545179075854165, 0.5671366624037425), (0.6541033327011835, 0.5656428855373746), (0.6539605635120755, 0.5650440537929535), (0.6538361501126062, 0.5643896115961529)]\n"
          ],
          "name": "stdout"
        },
        {
          "output_type": "display_data",
          "data": {
            "application/vnd.jupyter.widget-view+json": {
              "model_id": "1afa4ae312ac41b78d80ebdc8f0fb4e7",
              "version_minor": 0,
              "version_major": 2
            },
            "text/plain": [
              "HBox(children=(FloatProgress(value=0.0, max=450.0), HTML(value='')))"
            ]
          },
          "metadata": {
            "tags": []
          }
        },
        {
          "output_type": "stream",
          "text": [
            "\n",
            "\n",
            "Test set: Average loss: 0.8665\n",
            "******************************\n",
            "EPOCH: 6 LR: 0.01\n"
          ],
          "name": "stdout"
        },
        {
          "output_type": "display_data",
          "data": {
            "application/vnd.jupyter.widget-view+json": {
              "model_id": "e51d0b62d8e24d05bf1b6a795d979997",
              "version_minor": 0,
              "version_major": 2
            },
            "text/plain": [
              "HBox(children=(FloatProgress(value=0.0, max=1050.0), HTML(value='')))"
            ]
          },
          "metadata": {
            "tags": []
          }
        },
        {
          "output_type": "stream",
          "text": [
            "total_lenght 1050\n",
            "\n",
            "avaerage_loss 671261.9879901409\n",
            "train loss\n",
            "[(0.6570121588593437, 0.5738336300282251), (0.6545179075854165, 0.5671366624037425), (0.6541033327011835, 0.5656428855373746), (0.6539605635120755, 0.5650440537929535), (0.6538361501126062, 0.5643896115961529), (0.6537806944052378, 0.5639281273455847)]\n"
          ],
          "name": "stdout"
        },
        {
          "output_type": "display_data",
          "data": {
            "application/vnd.jupyter.widget-view+json": {
              "model_id": "764f0ecafce5490793ef3153306822b6",
              "version_minor": 0,
              "version_major": 2
            },
            "text/plain": [
              "HBox(children=(FloatProgress(value=0.0, max=450.0), HTML(value='')))"
            ]
          },
          "metadata": {
            "tags": []
          }
        },
        {
          "output_type": "stream",
          "text": [
            "\n",
            "\n",
            "Test set: Average loss: 0.8747\n",
            "******************************\n",
            "EPOCH: 7 LR: 0.01\n"
          ],
          "name": "stdout"
        },
        {
          "output_type": "display_data",
          "data": {
            "application/vnd.jupyter.widget-view+json": {
              "model_id": "27912280d9c849b7af06581e4ee3e170",
              "version_minor": 0,
              "version_major": 2
            },
            "text/plain": [
              "HBox(children=(FloatProgress(value=0.0, max=1050.0), HTML(value='')))"
            ]
          },
          "metadata": {
            "tags": []
          }
        },
        {
          "output_type": "stream",
          "text": [
            "total_lenght 1050\n",
            "\n",
            "avaerage_loss 670922.0861122012\n",
            "train loss\n",
            "[(0.6570121588593437, 0.5738336300282251), (0.6545179075854165, 0.5671366624037425), (0.6541033327011835, 0.5656428855373746), (0.6539605635120755, 0.5650440537929535), (0.6538361501126062, 0.5643896115961529), (0.6537806944052378, 0.5639281273455847), (0.6536736080192385, 0.563418611685435)]\n"
          ],
          "name": "stdout"
        },
        {
          "output_type": "display_data",
          "data": {
            "application/vnd.jupyter.widget-view+json": {
              "model_id": "3733bc4e7a1e494cbb4609560adef618",
              "version_minor": 0,
              "version_major": 2
            },
            "text/plain": [
              "HBox(children=(FloatProgress(value=0.0, max=450.0), HTML(value='')))"
            ]
          },
          "metadata": {
            "tags": []
          }
        },
        {
          "output_type": "stream",
          "text": [
            "\n",
            "\n",
            "Test set: Average loss: 0.8599\n",
            "******************************\n",
            "EPOCH: 8 LR: 0.001\n"
          ],
          "name": "stdout"
        },
        {
          "output_type": "display_data",
          "data": {
            "application/vnd.jupyter.widget-view+json": {
              "model_id": "d52cc5fce92d4081a6a210edb76e65ce",
              "version_minor": 0,
              "version_major": 2
            },
            "text/plain": [
              "HBox(children=(FloatProgress(value=0.0, max=1050.0), HTML(value='')))"
            ]
          },
          "metadata": {
            "tags": []
          }
        },
        {
          "output_type": "stream",
          "text": [
            "total_lenght 1050\n",
            "\n",
            "avaerage_loss 669809.5790281892\n",
            "train loss\n",
            "[(0.6570121588593437, 0.5738336300282251), (0.6545179075854165, 0.5671366624037425), (0.6541033327011835, 0.5656428855373746), (0.6539605635120755, 0.5650440537929535), (0.6538361501126062, 0.5643896115961529), (0.6537806944052378, 0.5639281273455847), (0.6536736080192385, 0.563418611685435), (0.6534250522227515, 0.5616490140415373)]\n"
          ],
          "name": "stdout"
        },
        {
          "output_type": "display_data",
          "data": {
            "application/vnd.jupyter.widget-view+json": {
              "model_id": "ac1de2dc603a4e939a70bbfa07c404cd",
              "version_minor": 0,
              "version_major": 2
            },
            "text/plain": [
              "HBox(children=(FloatProgress(value=0.0, max=450.0), HTML(value='')))"
            ]
          },
          "metadata": {
            "tags": []
          }
        },
        {
          "output_type": "stream",
          "text": [
            "\n",
            "\n",
            "Test set: Average loss: 0.8789\n",
            "******************************\n",
            "EPOCH: 9 LR: 0.001\n"
          ],
          "name": "stdout"
        },
        {
          "output_type": "display_data",
          "data": {
            "application/vnd.jupyter.widget-view+json": {
              "model_id": "bbc57d26ff3a48d5a106fe16de5d340d",
              "version_minor": 0,
              "version_major": 2
            },
            "text/plain": [
              "HBox(children=(FloatProgress(value=0.0, max=1050.0), HTML(value='')))"
            ]
          },
          "metadata": {
            "tags": []
          }
        },
        {
          "output_type": "stream",
          "text": [
            "total_lenght 1050\n",
            "\n",
            "avaerage_loss 669539.4788146019\n",
            "train loss\n",
            "[(0.6570121588593437, 0.5738336300282251), (0.6545179075854165, 0.5671366624037425), (0.6541033327011835, 0.5656428855373746), (0.6539605635120755, 0.5650440537929535), (0.6538361501126062, 0.5643896115961529), (0.6537806944052378, 0.5639281273455847), (0.6536736080192385, 0.563418611685435), (0.6534250522227515, 0.5616490140415373), (0.653369053318387, 0.5612150352341788)]\n"
          ],
          "name": "stdout"
        },
        {
          "output_type": "display_data",
          "data": {
            "application/vnd.jupyter.widget-view+json": {
              "model_id": "acddada78dc246f9bb26fc703fc10923",
              "version_minor": 0,
              "version_major": 2
            },
            "text/plain": [
              "HBox(children=(FloatProgress(value=0.0, max=450.0), HTML(value='')))"
            ]
          },
          "metadata": {
            "tags": []
          }
        },
        {
          "output_type": "stream",
          "text": [
            "\n",
            "\n",
            "Test set: Average loss: 0.8773\n",
            "******************************\n",
            "EPOCH: 10 LR: 0.001\n"
          ],
          "name": "stdout"
        },
        {
          "output_type": "display_data",
          "data": {
            "application/vnd.jupyter.widget-view+json": {
              "model_id": "55b2c9b56a164f74aca8a194cdcf2717",
              "version_minor": 0,
              "version_major": 2
            },
            "text/plain": [
              "HBox(children=(FloatProgress(value=0.0, max=1050.0), HTML(value='')))"
            ]
          },
          "metadata": {
            "tags": []
          }
        },
        {
          "output_type": "stream",
          "text": [
            "total_lenght 1050\n",
            "\n",
            "avaerage_loss 669355.3548574448\n",
            "train loss\n",
            "[(0.6570121588593437, 0.5738336300282251), (0.6545179075854165, 0.5671366624037425), (0.6541033327011835, 0.5656428855373746), (0.6539605635120755, 0.5650440537929535), (0.6538361501126062, 0.5643896115961529), (0.6537806944052378, 0.5639281273455847), (0.6536736080192385, 0.563418611685435), (0.6534250522227515, 0.5616490140415373), (0.653369053318387, 0.5612150352341788), (0.6533306174618857, 0.5609194593770164)]\n"
          ],
          "name": "stdout"
        },
        {
          "output_type": "display_data",
          "data": {
            "application/vnd.jupyter.widget-view+json": {
              "model_id": "2b8ad53881e94d4881be767b544405ec",
              "version_minor": 0,
              "version_major": 2
            },
            "text/plain": [
              "HBox(children=(FloatProgress(value=0.0, max=450.0), HTML(value='')))"
            ]
          },
          "metadata": {
            "tags": []
          }
        },
        {
          "output_type": "stream",
          "text": [
            "\n",
            "\n",
            "Test set: Average loss: 0.8841\n",
            "******************************\n",
            "Training time: 2589.972s 10 epochs\n"
          ],
          "name": "stdout"
        }
      ]
    },
    {
      "cell_type": "code",
      "metadata": {
        "id": "lRev8fWah7OK",
        "colab_type": "code",
        "colab": {
          "base_uri": "https://localhost:8080/",
          "height": 17
        },
        "outputId": "2814b810-cf0a-48ac-fd54-036974bfff3f"
      },
      "source": [
        "show_results(model,test_loader,name = \"Results\")"
      ],
      "execution_count": null,
      "outputs": [
        {
          "output_type": "stream",
          "text": [
            "torch.Size([8, 64, 64])\n",
            "torch.Size([8, 64, 64])\n",
            "predicted\n",
            "torch.Size([8, 1, 64, 64])\n",
            "torch.Size([8, 1, 64, 64])\n",
            "unsq\n",
            "torch.Size([8, 1, 64, 64])\n",
            "torch.Size([8, 1, 64, 64])\n"
          ],
          "name": "stdout"
        },
        {
          "output_type": "display_data",
          "data": {
            "image/png": "[encoded data removed]",
            "text/plain": [
              "<Figure size 432x288 with 1 Axes>"
            ]
          },
          "metadata": {
            "tags": [],
            "needs_background": "light"
          }
        },
        {
          "output_type": "display_data",
          "data": {
            "image/png": "[encoded data removed]",
            "text/plain": [
              "<Figure size 3240x2520 with 2 Axes>"
            ]
          },
          "metadata": {
            "tags": [],
            "needs_background": "light"
          }
        },
        {
          "output_type": "stream",
          "text": [
            "Results are saved in Results_ type.jpg\n"
          ],
          "name": "stdout"
        },
        {
          "output_type": "display_data",
          "data": {
            "image/png": "[encoded data removed]",
            "text/plain": [
              "<Figure size 3240x2520 with 2 Axes>"
            ]
          },
          "metadata": {
            "tags": [],
            "needs_background": "light"
          }
        },
        {
          "output_type": "stream",
          "text": [
            "Results are saved in Results_ type.jpg\n"
          ],
          "name": "stdout"
        }
      ]
    }
  ]
}