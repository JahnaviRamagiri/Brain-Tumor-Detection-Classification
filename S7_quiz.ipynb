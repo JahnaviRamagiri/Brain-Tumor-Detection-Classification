{
  "nbformat": 4,
  "nbformat_minor": 0,
  "metadata": {
    "colab": {
      "name": "S7_quiz.ipynb",
      "provenance": [],
      "authorship_tag": "ABX9TyNRhIfUeS/ZhCcu6FiSblqY",
      "include_colab_link": true
    },
    "kernelspec": {
      "name": "python3",
      "display_name": "Python 3"
    }
  },
  "cells": [
    {
      "cell_type": "markdown",
      "metadata": {
        "id": "view-in-github",
        "colab_type": "text"
      },
      "source": [
        "<a href=\"https://colab.research.google.com/github/JahnaviRamagiri/Brain-Tumor-Detection-Classification/blob/master/S7_quiz.ipynb\" target=\"_parent\"><img src=\"https://colab.research.google.com/assets/colab-badge.svg\" alt=\"Open In Colab\"/></a>"
      ]
    },
    {
      "cell_type": "markdown",
      "metadata": {
        "id": "MxqEGJwsFGYh",
        "colab_type": "text"
      },
      "source": [
        "Your first and last two lines of code are:\n",
        "\n",
        "from datetime import datetime\n",
        "print(datetime.now())\n",
        "\n",
        "Write a list comprehension expression that can generate 25 random DOB in format 11th, Jun, 1992. Take care or th, rd, st, etc (DOB between 1901 to 2020)\n",
        "\n",
        "Use https://colab.research.google.com/ (Links to an external site.) for this. \n",
        "\n",
        "SHARE PUBLICALLY AVAILABLE LINK FOR YOUR COLAB FILE\n",
        "\n",
        "PASTE YOUR CODE AND RESULTS/LOG HERE\n",
        "\n",
        "If the date/time does not match the time of the quiz, then you get -500\n",
        "\n",
        "If you are taking quiz live-during the lecture, then you get 500 for a correct solution\n",
        "\n",
        "If you are taking quiz \"after\" the class, then maximum allowable score would be 200"
      ]
    },
    {
      "cell_type": "code",
      "metadata": {
        "id": "yJiXj6KIEx5o",
        "colab_type": "code",
        "colab": {
          "base_uri": "https://localhost:8080/",
          "height": 34
        },
        "outputId": "90c88cd0-3bcf-41e1-8cb3-c8e8c48c8280"
      },
      "source": [
        "from datetime import datetime\n",
        "print(datetime.now())"
      ],
      "execution_count": 19,
      "outputs": [
        {
          "output_type": "stream",
          "text": [
            "2020-09-07 13:27:13.647863\n"
          ],
          "name": "stdout"
        }
      ]
    },
    {
      "cell_type": "code",
      "metadata": {
        "id": "PQR-4ESmJcRq",
        "colab_type": "code",
        "colab": {}
      },
      "source": [
        "import random\n",
        "\n",
        "\n",
        "month_list = ['Jan','Feb','Mar','Apr','May','Jun','Jul','Aug','sep','Oct','Nov','Dec']\n",
        "date = random.randint(1,31)\n",
        "year = random.randint(1901,2020)\n",
        "\n",
        "suf = {'1':'st','2':'nd','3':'rd','4':'th','5':'th','6':'th','7':'th','8':'th','9':'th','0':'th'}\n",
        "output = lambda date, month, year : f'{date}th, {month}, {year}' if date in (11,12,13) else f'{date}{suf[str(date)[-1]]}, {month}, {year}' "
      ],
      "execution_count": 26,
      "outputs": []
    },
    {
      "cell_type": "code",
      "metadata": {
        "id": "eiINa4JVuAkc",
        "colab_type": "code",
        "colab": {}
      },
      "source": [
        "outlist = [output(random.randint(1,31), random.choice(month_list),random.randint(1901,2020)) for i in range(25)]"
      ],
      "execution_count": 27,
      "outputs": []
    },
    {
      "cell_type": "code",
      "metadata": {
        "id": "4UixXSlmuoJ-",
        "colab_type": "code",
        "colab": {
          "base_uri": "https://localhost:8080/",
          "height": 437
        },
        "outputId": "c0071536-b97b-4019-daa5-724465d9722e"
      },
      "source": [
        "outlist"
      ],
      "execution_count": 28,
      "outputs": [
        {
          "output_type": "execute_result",
          "data": {
            "text/plain": [
              "['1st, Jan, 1937',\n",
              " '1st, Jan, 1925',\n",
              " '7th, Apr, 1944',\n",
              " '27th, Apr, 1982',\n",
              " '28th, Jan, 2019',\n",
              " '19th, sep, 1994',\n",
              " '25th, Jul, 1938',\n",
              " '14th, Feb, 2005',\n",
              " '29th, Dec, 1996',\n",
              " '5th, Mar, 1906',\n",
              " '31st, Feb, 1984',\n",
              " '7th, Oct, 1999',\n",
              " '19th, Dec, 1945',\n",
              " '2nd, Feb, 1933',\n",
              " '6th, Jul, 2014',\n",
              " '18th, sep, 1909',\n",
              " '21st, Apr, 1973',\n",
              " '3rd, Jun, 2003',\n",
              " '27th, Oct, 1945',\n",
              " '29th, Jul, 1937',\n",
              " '28th, Jun, 1985',\n",
              " '15th, Mar, 1929',\n",
              " '21st, Jan, 1912',\n",
              " '31st, Apr, 1951',\n",
              " '11th, Aug, 1970']"
            ]
          },
          "metadata": {
            "tags": []
          },
          "execution_count": 28
        }
      ]
    },
    {
      "cell_type": "code",
      "metadata": {
        "id": "XfoLDDSFvCac",
        "colab_type": "code",
        "colab": {}
      },
      "source": [
        ""
      ],
      "execution_count": 22,
      "outputs": []
    }
  ]
}